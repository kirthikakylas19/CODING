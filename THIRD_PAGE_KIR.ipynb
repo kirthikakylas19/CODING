{
 "cells": [
  {
   "cell_type": "markdown",
   "metadata": {},
   "source": [
    "<h2 style = \"color : Brown\"> Creating NumPy Arrays </h2 >\n",
    "\n"
   ]
  },
  {
   "cell_type": "markdown",
   "metadata": {},
   "source": [
    "# ARRAY CREATION\n",
    "The following ways are commonly used when you know the size of the array beforehand:\n",
    "np.ones(): It is used to create an array of 1s.\n",
    "np.zeros(): It is used to create an array of 0s.\n",
    "np.random.randint(): It is used to create a random array of integers within a particular range.\n",
    "np.random.random(): It is used to create an array of random numbers.\n",
    "np.arange(): It is used to create an array with increments of fixed step size.\n",
    "np.linspace(): It is used to create an array of fixed length."
   ]
  },
  {
   "cell_type": "markdown",
   "metadata": {},
   "source": [
    " The following ways are commonly used when you know the size of the array beforehand:\n",
    "* ```np.ones()```: Create array of 1s\n",
    "* ```np.zeros()```: Create array of 0s\n",
    "* ```np.random.random()```: Create array of random numbers\n",
    "* ```np.arange()```: Create array with increments of a fixed step size\n",
    "* ```np.linspace()```: Create array of fixed length"
   ]
  },
  {
   "cell_type": "code",
   "execution_count": 3,
   "metadata": {},
   "outputs": [],
   "source": [
    "import numpy as np"
   ]
  },
  {
   "cell_type": "markdown",
   "metadata": {},
   "source": [
    "##### Tip: Use help to see the syntax when required"
   ]
  },
  {
   "cell_type": "code",
   "execution_count": 5,
   "metadata": {},
   "outputs": [
    {
     "name": "stdout",
     "output_type": "stream",
     "text": [
      "Help on function ones in module numpy:\n",
      "\n",
      "ones(shape, dtype=None, order='C', *, like=None)\n",
      "    Return a new array of given shape and type, filled with ones.\n",
      "\n",
      "    Parameters\n",
      "    ----------\n",
      "    shape : int or sequence of ints\n",
      "        Shape of the new array, e.g., ``(2, 3)`` or ``2``.\n",
      "    dtype : data-type, optional\n",
      "        The desired data-type for the array, e.g., `numpy.int8`.  Default is\n",
      "        `numpy.float64`.\n",
      "    order : {'C', 'F'}, optional, default: C\n",
      "        Whether to store multi-dimensional data in row-major\n",
      "        (C-style) or column-major (Fortran-style) order in\n",
      "        memory.\n",
      "    like : array_like, optional\n",
      "        Reference object to allow the creation of arrays which are not\n",
      "        NumPy arrays. If an array-like passed in as ``like`` supports\n",
      "        the ``__array_function__`` protocol, the result will be defined\n",
      "        by it. In this case, it ensures the creation of an array object\n",
      "        compatible with that passed in via this argument.\n",
      "\n",
      "        .. versionadded:: 1.20.0\n",
      "\n",
      "    Returns\n",
      "    -------\n",
      "    out : ndarray\n",
      "        Array of ones with the given shape, dtype, and order.\n",
      "\n",
      "    See Also\n",
      "    --------\n",
      "    ones_like : Return an array of ones with shape and type of input.\n",
      "    empty : Return a new uninitialized array.\n",
      "    zeros : Return a new array setting values to zero.\n",
      "    full : Return a new array of given shape filled with value.\n",
      "\n",
      "\n",
      "    Examples\n",
      "    --------\n",
      "    >>> np.ones(5)\n",
      "    array([1., 1., 1., 1., 1.])\n",
      "\n",
      "    >>> np.ones((5,), dtype=int)\n",
      "    array([1, 1, 1, 1, 1])\n",
      "\n",
      "    >>> np.ones((2, 1))\n",
      "    array([[1.],\n",
      "           [1.]])\n",
      "\n",
      "    >>> s = (2,2)\n",
      "    >>> np.ones(s)\n",
      "    array([[1.,  1.],\n",
      "           [1.,  1.]])\n",
      "\n"
     ]
    }
   ],
   "source": [
    "help(np.ones)"
   ]
  },
  {
   "cell_type": "markdown",
   "metadata": {},
   "source": [
    "##### Creating a 1 D array of ones"
   ]
  },
  {
   "cell_type": "code",
   "execution_count": 7,
   "metadata": {},
   "outputs": [
    {
     "data": {
      "text/plain": [
       "array([1., 1., 1., 1., 1.])"
      ]
     },
     "execution_count": 7,
     "metadata": {},
     "output_type": "execute_result"
    }
   ],
   "source": [
    "arr = np.ones(5)\n",
    "arr"
   ]
  },
  {
   "cell_type": "markdown",
   "metadata": {},
   "source": [
    "##### Notice that, by default, numpy creates data type = float64\n",
    "\n"
   ]
  },
  {
   "cell_type": "code",
   "execution_count": 9,
   "metadata": {},
   "outputs": [
    {
     "data": {
      "text/plain": [
       "dtype('float64')"
      ]
     },
     "execution_count": 9,
     "metadata": {},
     "output_type": "execute_result"
    }
   ],
   "source": [
    "arr.dtype"
   ]
  },
  {
   "cell_type": "markdown",
   "metadata": {},
   "source": [
    "##### Can provide dtype explicitly using dtype\n"
   ]
  },
  {
   "cell_type": "code",
   "execution_count": 14,
   "metadata": {},
   "outputs": [
    {
     "data": {
      "text/plain": [
       "array([1, 1, 1, 1, 1])"
      ]
     },
     "execution_count": 14,
     "metadata": {},
     "output_type": "execute_result"
    }
   ],
   "source": [
    "arr = np.ones(5, dtype=int)\n",
    "arr"
   ]
  },
  {
   "cell_type": "code",
   "execution_count": 16,
   "metadata": {},
   "outputs": [
    {
     "data": {
      "text/plain": [
       "dtype('int32')"
      ]
     },
     "execution_count": 16,
     "metadata": {},
     "output_type": "execute_result"
    }
   ],
   "source": [
    "arr.dtype"
   ]
  },
  {
   "cell_type": "markdown",
   "metadata": {},
   "source": [
    "##### Creating a 5  x 3 array of ones\n"
   ]
  },
  {
   "cell_type": "code",
   "execution_count": 19,
   "metadata": {},
   "outputs": [
    {
     "data": {
      "text/plain": [
       "array([[1., 1., 1.],\n",
       "       [1., 1., 1.],\n",
       "       [1., 1., 1.],\n",
       "       [1., 1., 1.],\n",
       "       [1., 1., 1.]])"
      ]
     },
     "execution_count": 19,
     "metadata": {},
     "output_type": "execute_result"
    }
   ],
   "source": [
    "np.ones((5,3))"
   ]
  },
  {
   "cell_type": "markdown",
   "metadata": {},
   "source": [
    "##### Creating array of zeros"
   ]
  },
  {
   "cell_type": "code",
   "execution_count": 22,
   "metadata": {},
   "outputs": [
    {
     "data": {
      "text/plain": [
       "array([0., 0., 0., 0., 0.])"
      ]
     },
     "execution_count": 22,
     "metadata": {},
     "output_type": "execute_result"
    }
   ],
   "source": [
    "np.zeros(5)\n",
    "# BY DEFAULT FLOAT IT AGAIN DEPENDS ON ENVIRONMENT "
   ]
  },
  {
   "cell_type": "code",
   "execution_count": 24,
   "metadata": {},
   "outputs": [
    {
     "data": {
      "text/plain": [
       "array([0, 0, 0, 0, 0])"
      ]
     },
     "execution_count": 24,
     "metadata": {},
     "output_type": "execute_result"
    }
   ],
   "source": [
    "# convert the type into integer.\n",
    "np.zeros(5, dtype=int)"
   ]
  },
  {
   "cell_type": "code",
   "execution_count": 26,
   "metadata": {},
   "outputs": [
    {
     "data": {
      "text/plain": [
       "[1, 2, 3, 4]"
      ]
     },
     "execution_count": 26,
     "metadata": {},
     "output_type": "execute_result"
    }
   ],
   "source": [
    "# Create a list of integers range between 1 to 5.\n",
    "list(range(1,5))"
   ]
  },
  {
   "cell_type": "code",
   "execution_count": 28,
   "metadata": {},
   "outputs": [
    {
     "data": {
      "text/plain": [
       "array([0, 1, 2])"
      ]
     },
     "execution_count": 28,
     "metadata": {},
     "output_type": "execute_result"
    }
   ],
   "source": [
    "np.arange(3)"
   ]
  },
  {
   "cell_type": "code",
   "execution_count": 30,
   "metadata": {},
   "outputs": [
    {
     "data": {
      "text/plain": [
       "array([0., 1., 2.])"
      ]
     },
     "execution_count": 30,
     "metadata": {},
     "output_type": "execute_result"
    }
   ],
   "source": [
    "np.arange(3.0)"
   ]
  },
  {
   "cell_type": "markdown",
   "metadata": {},
   "source": [
    "##### Notice that 3 is included, 35 is not, as in standard python lists\n",
    "\n",
    "From 3 to 35 with a step of 2"
   ]
  },
  {
   "cell_type": "code",
   "execution_count": 33,
   "metadata": {},
   "outputs": [
    {
     "data": {
      "text/plain": [
       "array([ 3,  5,  7,  9, 11, 13, 15, 17, 19, 21, 23, 25, 27, 29, 31, 33])"
      ]
     },
     "execution_count": 33,
     "metadata": {},
     "output_type": "execute_result"
    }
   ],
   "source": [
    "np.arange(3,35,2)"
   ]
  },
  {
   "cell_type": "markdown",
   "metadata": {},
   "source": [
    "##### Array of random numbers \n"
   ]
  },
  {
   "cell_type": "code",
   "execution_count": 50,
   "metadata": {},
   "outputs": [
    {
     "data": {
      "text/plain": [
       "array([2, 3, 4, 3, 3, 3, 2, 3, 2, 4])"
      ]
     },
     "execution_count": 50,
     "metadata": {},
     "output_type": "execute_result"
    }
   ],
   "source": [
    "# (LOWER BOUND,UPPER BOUND SIZE)  IF YOU PROVIDE ONLY ONE VALUE ITS CONSIDERED AS UPPER BOUND\n",
    "np.random.randint(2,5, size=10)"
   ]
  },
  {
   "cell_type": "code",
   "execution_count": 52,
   "metadata": {},
   "outputs": [
    {
     "data": {
      "text/plain": [
       "array([0, 0, 0, 1, 0, 0, 1, 0, 0, 1])"
      ]
     },
     "execution_count": 52,
     "metadata": {},
     "output_type": "execute_result"
    }
   ],
   "source": [
    "np.random.randint(2, size=10)"
   ]
  },
  {
   "cell_type": "code",
   "execution_count": 38,
   "metadata": {},
   "outputs": [
    {
     "data": {
      "text/plain": [
       "array([4, 3, 4, 4, 3, 4, 4, 3, 3, 4])"
      ]
     },
     "execution_count": 38,
     "metadata": {},
     "output_type": "execute_result"
    }
   ],
   "source": [
    "np.random.randint(3,5, size=10)"
   ]
  },
  {
   "cell_type": "markdown",
   "metadata": {},
   "source": [
    "##### 2D Array of random numbers \n"
   ]
  },
  {
   "cell_type": "code",
   "execution_count": null,
   "metadata": {},
   "outputs": [],
   "source": [
    "# BY DEFAULT VALUES BETWEEN 0 AND 1"
   ]
  },
  {
   "cell_type": "code",
   "execution_count": 41,
   "metadata": {},
   "outputs": [
    {
     "data": {
      "text/plain": [
       "array([[0.25464109, 0.01093949, 0.52906496, 0.02871476],\n",
       "       [0.36603669, 0.46212483, 0.58641987, 0.69747825],\n",
       "       [0.66274296, 0.79701496, 0.60440997, 0.80770366]])"
      ]
     },
     "execution_count": 41,
     "metadata": {},
     "output_type": "execute_result"
    }
   ],
   "source": [
    "np.random.random([3,4])"
   ]
  },
  {
   "cell_type": "markdown",
   "metadata": {},
   "source": [
    "###### Sometimes, you know the length of the array, not the step size\n",
    "\n",
    "Array of length 20 between 1 and 10"
   ]
  },
  {
   "cell_type": "code",
   "execution_count": 44,
   "metadata": {},
   "outputs": [
    {
     "data": {
      "text/plain": [
       "array([ 1.        ,  1.47368421,  1.94736842,  2.42105263,  2.89473684,\n",
       "        3.36842105,  3.84210526,  4.31578947,  4.78947368,  5.26315789,\n",
       "        5.73684211,  6.21052632,  6.68421053,  7.15789474,  7.63157895,\n",
       "        8.10526316,  8.57894737,  9.05263158,  9.52631579, 10.        ])"
      ]
     },
     "execution_count": 44,
     "metadata": {},
     "output_type": "execute_result"
    }
   ],
   "source": [
    "# THIS 10 IN INCLUDED IN OUTPUT USUALLY WE GET ONLY TILL 9 KADA THIS IS EXCEPTION\n",
    "# \"Create 20 evenly spaced numbers between 1 and 10 (inclusive).\"\n",
    "np.linspace(1,10,20)"
   ]
  },
  {
   "cell_type": "markdown",
   "metadata": {},
   "source": [
    "<h2 style = \"color : Sky blue\"> Exercises </h2>"
   ]
  },
  {
   "cell_type": "markdown",
   "metadata": {},
   "source": [
    "\n",
    "\n",
    "Apart from the methods mentioned above, there are a few more NumPy functions that you can use to create special NumPy arrays:\n",
    "\n",
    "-  `np.full()`: Create a constant array of any number ‘n’\n",
    "-  `np.tile()`: Create a new array by repeating an existing array for a particular number of times\n",
    "-  `np.eye()`: Create an identity matrix of any dimension\n",
    "-  `np.random.randint()`: Create a random array of integers within a particular range"
   ]
  },
  {
   "cell_type": "code",
   "execution_count": 56,
   "metadata": {},
   "outputs": [
    {
     "name": "stdout",
     "output_type": "stream",
     "text": [
      "🔹 np.full() 2D:\n",
      " [[7 7 7]\n",
      " [7 7 7]]\n",
      "🔹 np.full() 3D:\n",
      " [[[5 5 5]\n",
      "  [5 5 5]]\n",
      "\n",
      " [[5 5 5]\n",
      "  [5 5 5]]]\n"
     ]
    }
   ],
   "source": [
    "import numpy as np\n",
    "\n",
    "# 1️⃣ np.full()\n",
    "arr_2d_full = np.full((2, 3), 7)            # 2D: 2 rows, 3 columns filled with 7\n",
    "arr_3d_full = np.full((2, 2, 3), 5)         # 3D: 2 blocks of 2x3 filled with 5\n",
    "\n",
    "print(\"🔹 np.full() 2D:\\n\", arr_2d_full)\n",
    "print(\"🔹 np.full() 3D:\\n\", arr_3d_full)\n"
   ]
  },
  {
   "cell_type": "code",
   "execution_count": 58,
   "metadata": {},
   "outputs": [
    {
     "name": "stdout",
     "output_type": "stream",
     "text": [
      "\n",
      "🔹 np.tile() 2D:\n",
      " [[1 2 1 2]\n",
      " [3 4 3 4]\n",
      " [1 2 1 2]\n",
      " [3 4 3 4]]\n",
      "🔹 np.tile() 3D:\n",
      " [[[1 1]\n",
      "  [2 2]\n",
      "  [1 1]\n",
      "  [2 2]]\n",
      "\n",
      " [[1 1]\n",
      "  [2 2]\n",
      "  [1 1]\n",
      "  [2 2]]]\n"
     ]
    }
   ],
   "source": [
    "\n",
    "# 2️⃣ np.tile()\n",
    "arr_2d_tile = np.tile([[1, 2], [3, 4]], (2, 2))       # 2D tile\n",
    "arr_3d_tile = np.tile(np.array([[[1], [2]]]), (2, 2, 2))  # 3D tile: repeat a simple 3D structure\n",
    "\n",
    "print(\"\\n🔹 np.tile() 2D:\\n\", arr_2d_tile)\n",
    "print(\"🔹 np.tile() 3D:\\n\", arr_3d_tile)\n"
   ]
  },
  {
   "cell_type": "markdown",
   "metadata": {},
   "source": [
    "🔍 Step-by-step\n",
    "1️⃣ Original array:\n",
    "[[1, 2],\n",
    " [3, 4]]\n",
    "2️⃣ Repeat across (columns) → 2 times:\n",
    "We put each row side-by-side twice:\n",
    "[[1, 2, 1, 2],\n",
    " [3, 4, 3, 4]]\n",
    "3️⃣ Repeat down (rows) → 2 times:\n",
    "We repeat the full thing again top to bottom:\n",
    "[[1, 2, 1, 2],\n",
    " [3, 4, 3, 4],\n",
    " [1, 2, 1, 2],\n",
    " [3, 4, 3, 4]]\n",
    "✅ Final Output:\n",
    "[[1 2 1 2]\n",
    " [3 4 3 4]\n",
    " [1 2 1 2]\n",
    " [3 4 3 4]]"
   ]
  },
  {
   "cell_type": "markdown",
   "metadata": {},
   "source": [
    "✅ Step 1: Understand the original array\n",
    "python\n",
    "Copy\n",
    "Edit\n",
    "np.array([[[1], [2]]])\n",
    "This is a 3D array. Let’s see what it looks like:\n",
    "\n",
    "It has 1 \"block\", and inside that:\n",
    "\n",
    "Row 1 → [1]\n",
    "\n",
    "Row 2 → [2]\n",
    "\n",
    "So visually, think of it as:\n",
    "\n",
    "[\n",
    "  [\n",
    "    [1],\n",
    "    [2]\n",
    "  ]\n",
    "]\n",
    "Its shape is:\n",
    "\n",
    "(1, 2, 1) → (depth, rows, columns)\n",
    "✅ Step 2: What does (2, 2, 2) mean?\n",
    "It tells NumPy how to repeat the array along each dimension:\n",
    "2 times in depth (outermost dimension)\n",
    "2 times in rows (vertical repeat inside each depth block)\n",
    "2 times in columns (horizontal repeat of numbers)\n",
    "\n",
    "✅ Step 3: Let’s build the final result\n",
    "Let’s go one dimension at a time:\n",
    "\n",
    "Original 3D array:\n",
    "[\n",
    "  [\n",
    "    [1],\n",
    "    [2]\n",
    "  ]\n",
    "]\n",
    "📦 Step A: Repeat in columns (last number 2)\n",
    "Inside each row: [1] becomes [1, 1], [2] becomes [2, 2]\n",
    "[\n",
    "  [\n",
    "    [1, 1],\n",
    "    [2, 2]\n",
    "  ]\n",
    "]\n",
    "📦 Step B: Repeat in rows (middle number 2)\n",
    "Repeat those rows:\n",
    "[\n",
    "  [\n",
    "    [1, 1],\n",
    "    [2, 2],\n",
    "    [1, 1],\n",
    "    [2, 2]\n",
    "  ]\n",
    "]\n",
    "📦 Step C: Repeat in depth (outermost number 2)\n",
    "Repeat that whole block again:\n",
    "[\n",
    "  [\n",
    "    [1, 1],\n",
    "    [2, 2],\n",
    "    [1, 1],\n",
    "    [2, 2]\n",
    "  ],\n",
    "  [\n",
    "    [1, 1],\n",
    "    [2, 2],\n",
    "    [1, 1],\n",
    "    [2, 2]\n",
    "  ]\n",
    "]\n"
   ]
  },
  {
   "cell_type": "code",
   "execution_count": 60,
   "metadata": {},
   "outputs": [
    {
     "name": "stdout",
     "output_type": "stream",
     "text": [
      "\n",
      "🔹 np.eye() 2D:\n",
      " [[1. 0. 0.]\n",
      " [0. 1. 0.]\n",
      " [0. 0. 1.]]\n",
      "🔹 np.eye() 3D (simulated by stacking 2D):\n",
      " [[[1. 0. 0.]\n",
      "  [0. 1. 0.]\n",
      "  [0. 0. 1.]]\n",
      "\n",
      " [[1. 0. 0.]\n",
      "  [0. 1. 0.]\n",
      "  [0. 0. 1.]]]\n"
     ]
    }
   ],
   "source": [
    "\n",
    "# 3️⃣ np.eye()\n",
    "arr_2d_eye = np.eye(3)               # Identity matrix (2D only)\n",
    "# np.eye doesn't work for 3D directly, but we can stack for simulation:\n",
    "arr_3d_eye = np.array([np.eye(3), np.eye(3)])  # Stack two identity matrices to simulate 3D\n",
    "\n",
    "print(\"\\n🔹 np.eye() 2D:\\n\", arr_2d_eye)\n",
    "print(\"🔹 np.eye() 3D (simulated by stacking 2D):\\n\", arr_3d_eye)\n"
   ]
  },
  {
   "cell_type": "code",
   "execution_count": 62,
   "metadata": {},
   "outputs": [
    {
     "name": "stdout",
     "output_type": "stream",
     "text": [
      "\n",
      "🔹 np.random.randint() 2D:\n",
      " [[6 4 9]\n",
      " [6 6 4]]\n",
      "🔹 np.random.randint() 3D:\n",
      " [[[13 67 18]\n",
      "  [49 22 72]]\n",
      "\n",
      " [[54 59 68]\n",
      "  [15 97 40]]]\n"
     ]
    }
   ],
   "source": [
    "\n",
    "# 4️⃣ np.random.randint()\n",
    "arr_2d_rand = np.random.randint(0, 10, (2, 3))     # 2D random ints\n",
    "arr_3d_rand = np.random.randint(10, 100, (2, 2, 3))  # 3D random ints\n",
    "\n",
    "print(\"\\n🔹 np.random.randint() 2D:\\n\", arr_2d_rand)\n",
    "print(\"🔹 np.random.randint() 3D:\\n\", arr_3d_rand)\n"
   ]
  },
  {
   "cell_type": "code",
   "execution_count": null,
   "metadata": {},
   "outputs": [],
   "source": []
  },
  {
   "cell_type": "code",
   "execution_count": null,
   "metadata": {},
   "outputs": [],
   "source": []
  }
 ],
 "metadata": {
  "kernelspec": {
   "display_name": "Python [conda env:base] *",
   "language": "python",
   "name": "conda-base-py"
  },
  "language_info": {
   "codemirror_mode": {
    "name": "ipython",
    "version": 3
   },
   "file_extension": ".py",
   "mimetype": "text/x-python",
   "name": "python",
   "nbconvert_exporter": "python",
   "pygments_lexer": "ipython3",
   "version": "3.12.7"
  }
 },
 "nbformat": 4,
 "nbformat_minor": 4
}
