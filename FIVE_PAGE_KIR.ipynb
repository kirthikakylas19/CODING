{
 "cells": [
  {
   "cell_type": "markdown",
   "metadata": {},
   "source": [
    "<h2 style = \"color : Brown\"> Case Study - Cricket Tournament </h2>\n",
    "\n",
    "<h4 style = \"color : Sky blue\"> Example - 1</h4>  \n",
    "\n",
    "##### Players list contain the height(inches) and weight(lbs) data for all the players"
   ]
  },
  {
   "cell_type": "code",
   "execution_count": 85,
   "metadata": {},
   "outputs": [],
   "source": [
    "# list of height and weight of the players.\n",
    "players = [(74, 180), (74, 215), (72, 210), (72, 210), (73, 188), (69, 176), (69, 209), (71, 200), (76, 231), (71, 180), (73, 188), (73, 180)]"
   ]
  },
  {
   "cell_type": "code",
   "execution_count": 87,
   "metadata": {},
   "outputs": [
    {
     "data": {
      "text/plain": [
       "12"
      ]
     },
     "execution_count": 87,
     "metadata": {},
     "output_type": "execute_result"
    }
   ],
   "source": [
    "len(players)"
   ]
  },
  {
   "cell_type": "code",
   "execution_count": 89,
   "metadata": {},
   "outputs": [
    {
     "data": {
      "text/plain": [
       "215"
      ]
     },
     "execution_count": 89,
     "metadata": {},
     "output_type": "execute_result"
    }
   ],
   "source": [
    "players[1][1]"
   ]
  },
  {
   "cell_type": "code",
   "execution_count": 91,
   "metadata": {},
   "outputs": [],
   "source": [
    "import numpy as np\n",
    "\n",
    "np_players = np.array(players)"
   ]
  },
  {
   "cell_type": "code",
   "execution_count": 93,
   "metadata": {},
   "outputs": [
    {
     "data": {
      "text/plain": [
       "array([[ 74, 180],\n",
       "       [ 74, 215],\n",
       "       [ 72, 210],\n",
       "       ...,\n",
       "       [ 71, 180],\n",
       "       [ 73, 188],\n",
       "       [ 73, 180]])"
      ]
     },
     "execution_count": 93,
     "metadata": {},
     "output_type": "execute_result"
    }
   ],
   "source": [
    "np_players"
   ]
  },
  {
   "cell_type": "code",
   "execution_count": 95,
   "metadata": {},
   "outputs": [
    {
     "data": {
      "text/plain": [
       "numpy.ndarray"
      ]
     },
     "execution_count": 95,
     "metadata": {},
     "output_type": "execute_result"
    }
   ],
   "source": [
    "type(np_players)"
   ]
  },
  {
   "cell_type": "markdown",
   "metadata": {},
   "source": [
    "MANY ROWS AND 2 COLUMNS (2 COLUNS IS CALLED 2 ARRAY)"
   ]
  },
  {
   "cell_type": "markdown",
   "metadata": {},
   "source": [
    "<h4 style = \"color : Sky blue\"> Example - 2 (Numpy Attributes)</h4>\n",
    "\n",
    "##### Print the structure of the 2-D Array"
   ]
  },
  {
   "cell_type": "code",
   "execution_count": 99,
   "metadata": {},
   "outputs": [],
   "source": [
    "# As you learnt in this video, NumPy arrays have certain features that help in analysing multidimensional arrays. Some features are as follows:\n",
    "\n",
    "# shape: It represents the shape of an array as the number of elements in each dimension.\n",
    "# ndim: It represents the number of dimensions of an array. For a 2D array, ndim = 2."
   ]
  },
  {
   "cell_type": "code",
   "execution_count": 101,
   "metadata": {},
   "outputs": [
    {
     "data": {
      "text/plain": [
       "(12, 2)"
      ]
     },
     "execution_count": 101,
     "metadata": {},
     "output_type": "execute_result"
    }
   ],
   "source": [
    "np_players.shape"
   ]
  },
  {
   "cell_type": "markdown",
   "metadata": {},
   "source": [
    "##### Print the dimensions of the array"
   ]
  },
  {
   "cell_type": "code",
   "execution_count": 104,
   "metadata": {},
   "outputs": [
    {
     "data": {
      "text/plain": [
       "2"
      ]
     },
     "execution_count": 104,
     "metadata": {},
     "output_type": "execute_result"
    }
   ],
   "source": [
    "np_players.ndim"
   ]
  },
  {
   "cell_type": "markdown",
   "metadata": {},
   "source": [
    "##### Print the data type of elements in the array"
   ]
  },
  {
   "cell_type": "code",
   "execution_count": 107,
   "metadata": {},
   "outputs": [
    {
     "data": {
      "text/plain": [
       "dtype('int32')"
      ]
     },
     "execution_count": 107,
     "metadata": {},
     "output_type": "execute_result"
    }
   ],
   "source": [
    "np_players.dtype"
   ]
  },
  {
   "cell_type": "markdown",
   "metadata": {},
   "source": [
    "Data Type\t   Description\t            itemsize\n",
    "int32\t       32-bit integer\t        4 bytes\n",
    "int64\t       64-bit integer\t        8 bytes\n",
    "float32\t       32-bit float  \t        4 bytes\n",
    "float64\t       64-bit float\t            8 bytes\n",
    "bool\t       Boolean (True/False) \t1 byte"
   ]
  },
  {
   "cell_type": "markdown",
   "metadata": {},
   "source": [
    "##### Print the size of a single item of the array"
   ]
  },
  {
   "cell_type": "code",
   "execution_count": 111,
   "metadata": {},
   "outputs": [
    {
     "data": {
      "text/plain": [
       "4"
      ]
     },
     "execution_count": 111,
     "metadata": {},
     "output_type": "execute_result"
    }
   ],
   "source": [
    "np_players.itemsize"
   ]
  },
  {
   "cell_type": "code",
   "execution_count": 113,
   "metadata": {},
   "outputs": [
    {
     "name": "stdout",
     "output_type": "stream",
     "text": [
      "4\n"
     ]
    }
   ],
   "source": [
    "arr = np.array([1, 2, 3], dtype=np.int32)\n",
    "print(arr.itemsize)"
   ]
  },
  {
   "cell_type": "markdown",
   "metadata": {},
   "source": [
    "<h4 style = \"color : Sky blue\"> Example - 3</h4>\n",
    "\n",
    "##### Convert the heights to meters and weights to kg "
   ]
  },
  {
   "cell_type": "code",
   "execution_count": 116,
   "metadata": {},
   "outputs": [],
   "source": [
    "# MULTIPLY WEIGHTS WITH 0.0254 AND HEIGHTS WITH 0.453592 \n",
    "players_converted = np_players * [0.0254, 0.453592]"
   ]
  },
  {
   "cell_type": "code",
   "execution_count": 118,
   "metadata": {},
   "outputs": [
    {
     "data": {
      "text/plain": [
       "array([[ 1.8796  , 81.64656 ],\n",
       "       [ 1.8796  , 97.52228 ],\n",
       "       [ 1.8288  , 95.25432 ],\n",
       "       ...,\n",
       "       [ 1.8034  , 81.64656 ],\n",
       "       [ 1.8542  , 85.275296],\n",
       "       [ 1.8542  , 81.64656 ]])"
      ]
     },
     "execution_count": 118,
     "metadata": {},
     "output_type": "execute_result"
    }
   ],
   "source": [
    "players_converted"
   ]
  },
  {
   "cell_type": "markdown",
   "metadata": {},
   "source": [
    "<h4 style = \"color : Sky blue\"> Sub-Setting 2-D Arrays</h4>\n",
    "\n",
    "##### Fetch the first row from the array "
   ]
  },
  {
   "cell_type": "markdown",
   "metadata": {},
   "source": [
    "In NumPy, the dimension is called axis. In NumPy terminology, for 2-D arrays:\n",
    "\n",
    "axis = 0 - refers to the rows\n",
    "axis = 1 - refers to the columns"
   ]
  },
  {
   "cell_type": "code",
   "execution_count": 122,
   "metadata": {},
   "outputs": [
    {
     "data": {
      "text/plain": [
       "array([ 1.8796 , 81.64656])"
      ]
     },
     "execution_count": 122,
     "metadata": {},
     "output_type": "execute_result"
    }
   ],
   "source": [
    "players_converted[0]"
   ]
  },
  {
   "cell_type": "markdown",
   "metadata": {},
   "source": [
    "##### Fetch the first row 2nd element from the array "
   ]
  },
  {
   "cell_type": "code",
   "execution_count": 125,
   "metadata": {},
   "outputs": [
    {
     "data": {
      "text/plain": [
       "81.64656"
      ]
     },
     "execution_count": 125,
     "metadata": {},
     "output_type": "execute_result"
    }
   ],
   "source": [
    "players_converted[0][1]"
   ]
  },
  {
   "cell_type": "markdown",
   "metadata": {},
   "source": [
    "##### Fetch the first column from the array "
   ]
  },
  {
   "cell_type": "code",
   "execution_count": 128,
   "metadata": {},
   "outputs": [
    {
     "data": {
      "text/plain": [
       "array([1.8796, 1.8796, 1.8288, ..., 1.8034, 1.8542, 1.8542])"
      ]
     },
     "execution_count": 128,
     "metadata": {},
     "output_type": "execute_result"
    }
   ],
   "source": [
    "# SYNTAX NA[ROW][COL]  ROW =: COZ NEED ALL ROW DATA  COL=0 COZ FIRST COLUMN\n",
    "players_converted[:, 0]"
   ]
  },
  {
   "cell_type": "markdown",
   "metadata": {},
   "source": [
    "##### Fetch the height (1st column) of 9th player from the array "
   ]
  },
  {
   "cell_type": "code",
   "execution_count": 179,
   "metadata": {},
   "outputs": [
    {
     "data": {
      "text/plain": [
       "1.9304"
      ]
     },
     "execution_count": 179,
     "metadata": {},
     "output_type": "execute_result"
    }
   ],
   "source": [
    "\n",
    "players_converted[8][0]"
   ]
  },
  {
   "cell_type": "code",
   "execution_count": null,
   "metadata": {},
   "outputs": [],
   "source": [
    "players_converted[124,0]"
   ]
  },
  {
   "cell_type": "markdown",
   "metadata": {},
   "source": [
    "<h4 style = \"color : Sky blue\"> Conditional Sub-Setting Arrays</h4>\n",
    "\n",
    "##### Fetch height and weight of players with height above 1.8m\n"
   ]
  },
  {
   "cell_type": "code",
   "execution_count": null,
   "metadata": {},
   "outputs": [],
   "source": [
    "tall_players = players_converted[players_converted[:,0] > 1.8]"
   ]
  },
  {
   "cell_type": "code",
   "execution_count": null,
   "metadata": {},
   "outputs": [],
   "source": [
    "tall_players"
   ]
  },
  {
   "cell_type": "code",
   "execution_count": null,
   "metadata": {},
   "outputs": [],
   "source": [
    "k = [(74, 180), (74, 215), (72, 210), (72, 210), (73, 188)]\n",
    "k1=np.array(k)\n",
    "k1"
   ]
  },
  {
   "cell_type": "code",
   "execution_count": null,
   "metadata": {},
   "outputs": [],
   "source": [
    "# In NumPy, when you're working with a 2D array, the syntax array[:, 0] means:\n",
    "# : → all rows\n",
    "# 0 → column index 0\n",
    "tall_players1 = k1[k1[:,0] > 73]\n",
    "tall_players1"
   ]
  },
  {
   "cell_type": "code",
   "execution_count": 136,
   "metadata": {},
   "outputs": [
    {
     "data": {
      "text/plain": [
       "(12, 2)"
      ]
     },
     "execution_count": 136,
     "metadata": {},
     "output_type": "execute_result"
    }
   ],
   "source": [
    "players_converted.shape"
   ]
  },
  {
   "cell_type": "code",
   "execution_count": 138,
   "metadata": {},
   "outputs": [
    {
     "data": {
      "text/plain": [
       "(936, 2)"
      ]
     },
     "execution_count": 138,
     "metadata": {},
     "output_type": "execute_result"
    }
   ],
   "source": [
    "tall_players.shape"
   ]
  },
  {
   "cell_type": "markdown",
   "metadata": {},
   "source": [
    "##### Skills Array - holds the player key skills."
   ]
  },
  {
   "cell_type": "code",
   "execution_count": 181,
   "metadata": {},
   "outputs": [
    {
     "name": "stdout",
     "output_type": "stream",
     "text": [
      "['Keeper' 'Batsman' 'Bowler' ... 'Bowler' 'Batsman' 'Bowler']\n"
     ]
    },
    {
     "data": {
      "text/plain": [
       "12"
      ]
     },
     "execution_count": 181,
     "metadata": {},
     "output_type": "execute_result"
    }
   ],
   "source": [
    "skills = np.array(['Keeper', 'Batsman', 'Bowler', 'Keeper-Batsman', 'Batsman', 'Keeper-Batsman', 'Batsman', 'Batsman', 'Batsman', 'Bowler', 'Batsman','Bowler'])\n",
    "print(skills)\n",
    "skills.size"
   ]
  },
  {
   "cell_type": "code",
   "execution_count": 183,
   "metadata": {},
   "outputs": [],
   "source": [
    "# since players converted and skills have same rows you can check the batsama ppl"
   ]
  },
  {
   "cell_type": "markdown",
   "metadata": {},
   "source": [
    "##### Fetch Heights of the Batsmen"
   ]
  },
  {
   "cell_type": "code",
   "execution_count": 186,
   "metadata": {},
   "outputs": [],
   "source": [
    "batsmen = players_converted[skills == 'Batsman']\n",
    "# IMPORTANT\n",
    "# since players converted and skills have same rows you can check the batsama ppl\n",
    "# skills == 'Batsman'gives output as true or false so thats why you get the data of weights after you use another array"
   ]
  },
  {
   "cell_type": "code",
   "execution_count": 188,
   "metadata": {},
   "outputs": [
    {
     "data": {
      "text/plain": [
       "(6, 2)"
      ]
     },
     "execution_count": 188,
     "metadata": {},
     "output_type": "execute_result"
    }
   ],
   "source": [
    "batsmen.shape"
   ]
  },
  {
   "cell_type": "code",
   "execution_count": 190,
   "metadata": {},
   "outputs": [
    {
     "name": "stdout",
     "output_type": "stream",
     "text": [
      "[1.8796 1.8542 1.7526 1.8034 1.9304 1.8542]\n"
     ]
    }
   ],
   "source": [
    "# Set NumPy print options\n",
    "np.set_printoptions(edgeitems=3, threshold=10, suppress=True)\n",
    "\n",
    "# Now print the first column\n",
    "print(batsmen[:, 0])"
   ]
  },
  {
   "cell_type": "code",
   "execution_count": 192,
   "metadata": {},
   "outputs": [],
   "source": [
    "# batsmen[:, 0] this shows all 323 "
   ]
  },
  {
   "cell_type": "markdown",
   "metadata": {},
   "source": [
    "# Which of the following would extract all the rows of the first 3 columns in a 2D array?\n",
    "array_name[ : , :3] "
   ]
  },
  {
   "cell_type": "markdown",
   "metadata": {},
   "source": [
    "✅ What is a 2D list?\n",
    "A 2D list is like a table – a list of lists.\n",
    "\n",
    "Example:\n",
    "THIS HAS 2 ROWS 3 COLUMNS\n",
    "two_d = [\n",
    "  [1, 2, 3],\n",
    "  [4, 5, 6]\n",
    "]\n",
    "\n",
    "A multidimensional list means a list that can go beyond 2 levels — it could be 3D, 4D, etc.\n",
    "\n",
    "Example of a 3D list:\n",
    "\n",
    "three_d = [\n",
    "  [\n",
    "    [1, 2], \n",
    "    [3, 4]\n",
    "  ],\n",
    "  [\n",
    "    [5, 6], \n",
    "    [7, 8]\n",
    "  ]\n",
    "]"
   ]
  },
  {
   "cell_type": "markdown",
   "metadata": {},
   "source": [
    "[[11 12 13 14]\n",
    " [21 22 23 24]\n",
    " [31 32 33 34]] IS THIS 2D OR 3D\n",
    "\n",
    "💡 THIS is  2D Because:\n",
    "\n",
    "It has rows and columns\n",
    "\n",
    "Each row is a list of numbers\n",
    "\n",
    "There are 3 rows and 4 columns\n",
    "\n",
    "So it's a 2D structure (like a table 📊).\n",
    "\n",
    "🧠 If it were 3D:\n",
    "It would look like a collection of 2D arrays, stacked together.\n",
    "\n",
    "Example of 3D:\n",
    "\n",
    "python\n",
    "Copy\n",
    "Edit\n",
    "[\n",
    " [[11, 12], [13, 14]],\n",
    " [[21, 22], [23, 24]]\n",
    "]\n",
    "This has 2 blocks, each block is 2x2."
   ]
  },
  {
   "cell_type": "code",
   "execution_count": 177,
   "metadata": {},
   "outputs": [
    {
     "name": "stdout",
     "output_type": "stream",
     "text": [
      "[11 21 31]\n",
      "[11 12 13 14]\n",
      "[14 24 34]\n",
      "[31 32 33 34]\n"
     ]
    }
   ],
   "source": [
    "import numpy as np\n",
    "\n",
    "# Define the 2D array\n",
    "arr = np.array([[11, 12, 13, 14],\n",
    "                [21, 22, 23, 24],\n",
    "                [31, 32, 33, 34]])\n",
    "\n",
    "# 1. First column\n",
    "print(arr[:, 0])\n",
    "\n",
    "# 2. First row\n",
    "print(arr[0])\n",
    "\n",
    "# 3. Last column\n",
    "print(arr[:, -1])\n",
    "\n",
    "# 4. Last row\n",
    "print(arr[-1])\n"
   ]
  },
  {
   "cell_type": "code",
   "execution_count": 83,
   "metadata": {},
   "outputs": [
    {
     "name": "stdin",
     "output_type": "stream",
     "text": [
      " 3\n"
     ]
    },
    {
     "name": "stdout",
     "output_type": "stream",
     "text": [
      "[[1 1 1]\n",
      " [1 0 1]\n",
      " [1 1 1]]\n"
     ]
    }
   ],
   "source": [
    "# border array=1 middle all 0\n",
    "import numpy as np\n",
    "\n",
    "# Take input\n",
    "n = int(input())\n",
    "\n",
    "# Create an n x n array of ones\n",
    "arr = np.ones((n, n), dtype=int)\n",
    "\n",
    "# Fill the inner part with 0s (if n > 2)\n",
    "if n > 2:\n",
    "    arr[1:-1, 1:-1] = 0\n",
    "\n",
    "# Print the result\n",
    "print(arr)\n"
   ]
  },
  {
   "cell_type": "markdown",
   "metadata": {},
   "source": [
    "📌 arr[1:-1, 1:-1] means:\n",
    "1:-1 on rows → selects from row index 1 up to second last row.\n",
    "\n",
    "1:-1 on columns → selects from column index 1 up to second last column.\n",
    "\n",
    "So, it selects just the inner part (excluding the outermost border):\n",
    "\n",
    "[1 1]\n",
    "[1 1]\n",
    "\n",
    "Now when you do:\n",
    "arr[1:-1, 1:-1] = 0\n",
    "You’re saying:\n",
    "\n",
    "🔄 \"Replace the inner block with 0s.\""
   ]
  }
 ],
 "metadata": {
  "kernelspec": {
   "display_name": "Python [conda env:base] *",
   "language": "python",
   "name": "conda-base-py"
  },
  "language_info": {
   "codemirror_mode": {
    "name": "ipython",
    "version": 3
   },
   "file_extension": ".py",
   "mimetype": "text/x-python",
   "name": "python",
   "nbconvert_exporter": "python",
   "pygments_lexer": "ipython3",
   "version": "3.12.7"
  }
 },
 "nbformat": 4,
 "nbformat_minor": 4
}
