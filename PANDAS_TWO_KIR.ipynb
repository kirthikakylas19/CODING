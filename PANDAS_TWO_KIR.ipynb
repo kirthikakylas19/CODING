{
 "cells": [
  {
   "cell_type": "markdown",
   "metadata": {},
   "source": [
    "<h2 style = \"color : Brown\">Case Study - Sales Data </h2>"
   ]
  },
  {
   "cell_type": "code",
   "execution_count": 1,
   "metadata": {},
   "outputs": [
    {
     "name": "stderr",
     "output_type": "stream",
     "text": [
      "Matplotlib is building the font cache; this may take a moment.\n"
     ]
    }
   ],
   "source": [
    "# All imports\n",
    "import numpy as np\n",
    "import matplotlib.pyplot as plt\n",
    "import pandas as pd"
   ]
  },
  {
   "cell_type": "markdown",
   "metadata": {},
   "source": [
    "##### Sales and Profit data is read in dataframe \"sales\""
   ]
  },
  {
   "cell_type": "code",
   "execution_count": 9,
   "metadata": {},
   "outputs": [
    {
     "data": {
      "text/html": [
       "<div>\n",
       "<style scoped>\n",
       "    .dataframe tbody tr th:only-of-type {\n",
       "        vertical-align: middle;\n",
       "    }\n",
       "\n",
       "    .dataframe tbody tr th {\n",
       "        vertical-align: top;\n",
       "    }\n",
       "\n",
       "    .dataframe thead th {\n",
       "        text-align: right;\n",
       "    }\n",
       "</style>\n",
       "<table border=\"1\" class=\"dataframe\">\n",
       "  <thead>\n",
       "    <tr style=\"text-align: right;\">\n",
       "      <th></th>\n",
       "      <th>Market</th>\n",
       "      <th>Region</th>\n",
       "      <th>No_of_Orders</th>\n",
       "      <th>Profit</th>\n",
       "      <th>Sales</th>\n",
       "    </tr>\n",
       "  </thead>\n",
       "  <tbody>\n",
       "    <tr>\n",
       "      <th>0</th>\n",
       "      <td>Africa</td>\n",
       "      <td>Western Africa</td>\n",
       "      <td>251</td>\n",
       "      <td>-12901.51</td>\n",
       "      <td>78476.06</td>\n",
       "    </tr>\n",
       "    <tr>\n",
       "      <th>1</th>\n",
       "      <td>Africa</td>\n",
       "      <td>Southern Africa</td>\n",
       "      <td>85</td>\n",
       "      <td>11768.58</td>\n",
       "      <td>51319.50</td>\n",
       "    </tr>\n",
       "    <tr>\n",
       "      <th>2</th>\n",
       "      <td>Africa</td>\n",
       "      <td>North Africa</td>\n",
       "      <td>182</td>\n",
       "      <td>21643.08</td>\n",
       "      <td>86698.89</td>\n",
       "    </tr>\n",
       "    <tr>\n",
       "      <th>3</th>\n",
       "      <td>Africa</td>\n",
       "      <td>Eastern Africa</td>\n",
       "      <td>110</td>\n",
       "      <td>8013.04</td>\n",
       "      <td>44182.60</td>\n",
       "    </tr>\n",
       "    <tr>\n",
       "      <th>4</th>\n",
       "      <td>Africa</td>\n",
       "      <td>Central Africa</td>\n",
       "      <td>103</td>\n",
       "      <td>15606.30</td>\n",
       "      <td>61689.99</td>\n",
       "    </tr>\n",
       "  </tbody>\n",
       "</table>\n",
       "</div>"
      ],
      "text/plain": [
       "   Market           Region  No_of_Orders    Profit     Sales\n",
       "0  Africa   Western Africa           251 -12901.51  78476.06\n",
       "1  Africa  Southern Africa            85  11768.58  51319.50\n",
       "2  Africa     North Africa           182  21643.08  86698.89\n",
       "3  Africa   Eastern Africa           110   8013.04  44182.60\n",
       "4  Africa   Central Africa           103  15606.30  61689.99"
      ]
     },
     "execution_count": 9,
     "metadata": {},
     "output_type": "execute_result"
    }
   ],
   "source": [
    "# Read file \n",
    "\n",
    "sales = pd.read_excel('sales.xlsx')\n",
    "sales.head(5)"
   ]
  },
  {
   "cell_type": "code",
   "execution_count": 11,
   "metadata": {},
   "outputs": [
    {
     "data": {
      "text/html": [
       "<div>\n",
       "<style scoped>\n",
       "    .dataframe tbody tr th:only-of-type {\n",
       "        vertical-align: middle;\n",
       "    }\n",
       "\n",
       "    .dataframe tbody tr th {\n",
       "        vertical-align: top;\n",
       "    }\n",
       "\n",
       "    .dataframe thead th {\n",
       "        text-align: right;\n",
       "    }\n",
       "</style>\n",
       "<table border=\"1\" class=\"dataframe\">\n",
       "  <thead>\n",
       "    <tr style=\"text-align: right;\">\n",
       "      <th></th>\n",
       "      <th></th>\n",
       "      <th>No_of_Orders</th>\n",
       "      <th>Profit</th>\n",
       "      <th>Sales</th>\n",
       "    </tr>\n",
       "    <tr>\n",
       "      <th>Market</th>\n",
       "      <th>Region</th>\n",
       "      <th></th>\n",
       "      <th></th>\n",
       "      <th></th>\n",
       "    </tr>\n",
       "  </thead>\n",
       "  <tbody>\n",
       "    <tr>\n",
       "      <th rowspan=\"5\" valign=\"top\">Africa</th>\n",
       "      <th>Western Africa</th>\n",
       "      <td>251</td>\n",
       "      <td>-12901.51</td>\n",
       "      <td>78476.06</td>\n",
       "    </tr>\n",
       "    <tr>\n",
       "      <th>Southern Africa</th>\n",
       "      <td>85</td>\n",
       "      <td>11768.58</td>\n",
       "      <td>51319.50</td>\n",
       "    </tr>\n",
       "    <tr>\n",
       "      <th>North Africa</th>\n",
       "      <td>182</td>\n",
       "      <td>21643.08</td>\n",
       "      <td>86698.89</td>\n",
       "    </tr>\n",
       "    <tr>\n",
       "      <th>Eastern Africa</th>\n",
       "      <td>110</td>\n",
       "      <td>8013.04</td>\n",
       "      <td>44182.60</td>\n",
       "    </tr>\n",
       "    <tr>\n",
       "      <th>Central Africa</th>\n",
       "      <td>103</td>\n",
       "      <td>15606.30</td>\n",
       "      <td>61689.99</td>\n",
       "    </tr>\n",
       "  </tbody>\n",
       "</table>\n",
       "</div>"
      ],
      "text/plain": [
       "                        No_of_Orders    Profit     Sales\n",
       "Market Region                                           \n",
       "Africa Western Africa            251 -12901.51  78476.06\n",
       "       Southern Africa            85  11768.58  51319.50\n",
       "       North Africa              182  21643.08  86698.89\n",
       "       Eastern Africa            110   8013.04  44182.60\n",
       "       Central Africa            103  15606.30  61689.99"
      ]
     },
     "execution_count": 11,
     "metadata": {},
     "output_type": "execute_result"
    }
   ],
   "source": [
    "# Read file and set 1st two columns as index\n",
    "sales = pd.read_excel('sales.xlsx', index_col = [0,1])\n",
    "sales.head(5)\n"
   ]
  },
  {
   "cell_type": "markdown",
   "metadata": {},
   "source": [
    "<h4 style = \"color : Sky blue\"> Example - 1</h4>  \n",
    "\n",
    "##### Display first 3 land last 3 rows of the sales dataframe\n"
   ]
  },
  {
   "cell_type": "code",
   "execution_count": 14,
   "metadata": {},
   "outputs": [
    {
     "data": {
      "text/html": [
       "<div>\n",
       "<style scoped>\n",
       "    .dataframe tbody tr th:only-of-type {\n",
       "        vertical-align: middle;\n",
       "    }\n",
       "\n",
       "    .dataframe tbody tr th {\n",
       "        vertical-align: top;\n",
       "    }\n",
       "\n",
       "    .dataframe thead th {\n",
       "        text-align: right;\n",
       "    }\n",
       "</style>\n",
       "<table border=\"1\" class=\"dataframe\">\n",
       "  <thead>\n",
       "    <tr style=\"text-align: right;\">\n",
       "      <th></th>\n",
       "      <th></th>\n",
       "      <th>No_of_Orders</th>\n",
       "      <th>Profit</th>\n",
       "      <th>Sales</th>\n",
       "    </tr>\n",
       "    <tr>\n",
       "      <th>Market</th>\n",
       "      <th>Region</th>\n",
       "      <th></th>\n",
       "      <th></th>\n",
       "      <th></th>\n",
       "    </tr>\n",
       "  </thead>\n",
       "  <tbody>\n",
       "    <tr>\n",
       "      <th rowspan=\"5\" valign=\"top\">Africa</th>\n",
       "      <th>Western Africa</th>\n",
       "      <td>251</td>\n",
       "      <td>-12901.51</td>\n",
       "      <td>78476.06</td>\n",
       "    </tr>\n",
       "    <tr>\n",
       "      <th>Southern Africa</th>\n",
       "      <td>85</td>\n",
       "      <td>11768.58</td>\n",
       "      <td>51319.50</td>\n",
       "    </tr>\n",
       "    <tr>\n",
       "      <th>North Africa</th>\n",
       "      <td>182</td>\n",
       "      <td>21643.08</td>\n",
       "      <td>86698.89</td>\n",
       "    </tr>\n",
       "    <tr>\n",
       "      <th>Eastern Africa</th>\n",
       "      <td>110</td>\n",
       "      <td>8013.04</td>\n",
       "      <td>44182.60</td>\n",
       "    </tr>\n",
       "    <tr>\n",
       "      <th>Central Africa</th>\n",
       "      <td>103</td>\n",
       "      <td>15606.30</td>\n",
       "      <td>61689.99</td>\n",
       "    </tr>\n",
       "  </tbody>\n",
       "</table>\n",
       "</div>"
      ],
      "text/plain": [
       "                        No_of_Orders    Profit     Sales\n",
       "Market Region                                           \n",
       "Africa Western Africa            251 -12901.51  78476.06\n",
       "       Southern Africa            85  11768.58  51319.50\n",
       "       North Africa              182  21643.08  86698.89\n",
       "       Eastern Africa            110   8013.04  44182.60\n",
       "       Central Africa            103  15606.30  61689.99"
      ]
     },
     "execution_count": 14,
     "metadata": {},
     "output_type": "execute_result"
    }
   ],
   "source": [
    "sales.head() # Default - returns top 5 rows"
   ]
  },
  {
   "cell_type": "code",
   "execution_count": 16,
   "metadata": {},
   "outputs": [
    {
     "data": {
      "text/html": [
       "<div>\n",
       "<style scoped>\n",
       "    .dataframe tbody tr th:only-of-type {\n",
       "        vertical-align: middle;\n",
       "    }\n",
       "\n",
       "    .dataframe tbody tr th {\n",
       "        vertical-align: top;\n",
       "    }\n",
       "\n",
       "    .dataframe thead th {\n",
       "        text-align: right;\n",
       "    }\n",
       "</style>\n",
       "<table border=\"1\" class=\"dataframe\">\n",
       "  <thead>\n",
       "    <tr style=\"text-align: right;\">\n",
       "      <th></th>\n",
       "      <th></th>\n",
       "      <th>No_of_Orders</th>\n",
       "      <th>Profit</th>\n",
       "      <th>Sales</th>\n",
       "    </tr>\n",
       "    <tr>\n",
       "      <th>Market</th>\n",
       "      <th>Region</th>\n",
       "      <th></th>\n",
       "      <th></th>\n",
       "      <th></th>\n",
       "    </tr>\n",
       "  </thead>\n",
       "  <tbody>\n",
       "    <tr>\n",
       "      <th rowspan=\"3\" valign=\"top\">Africa</th>\n",
       "      <th>Western Africa</th>\n",
       "      <td>251</td>\n",
       "      <td>-12901.51</td>\n",
       "      <td>78476.06</td>\n",
       "    </tr>\n",
       "    <tr>\n",
       "      <th>Southern Africa</th>\n",
       "      <td>85</td>\n",
       "      <td>11768.58</td>\n",
       "      <td>51319.50</td>\n",
       "    </tr>\n",
       "    <tr>\n",
       "      <th>North Africa</th>\n",
       "      <td>182</td>\n",
       "      <td>21643.08</td>\n",
       "      <td>86698.89</td>\n",
       "    </tr>\n",
       "  </tbody>\n",
       "</table>\n",
       "</div>"
      ],
      "text/plain": [
       "                        No_of_Orders    Profit     Sales\n",
       "Market Region                                           \n",
       "Africa Western Africa            251 -12901.51  78476.06\n",
       "       Southern Africa            85  11768.58  51319.50\n",
       "       North Africa              182  21643.08  86698.89"
      ]
     },
     "execution_count": 16,
     "metadata": {},
     "output_type": "execute_result"
    }
   ],
   "source": [
    "sales.head(3)"
   ]
  },
  {
   "cell_type": "code",
   "execution_count": 18,
   "metadata": {},
   "outputs": [
    {
     "data": {
      "text/html": [
       "<div>\n",
       "<style scoped>\n",
       "    .dataframe tbody tr th:only-of-type {\n",
       "        vertical-align: middle;\n",
       "    }\n",
       "\n",
       "    .dataframe tbody tr th {\n",
       "        vertical-align: top;\n",
       "    }\n",
       "\n",
       "    .dataframe thead th {\n",
       "        text-align: right;\n",
       "    }\n",
       "</style>\n",
       "<table border=\"1\" class=\"dataframe\">\n",
       "  <thead>\n",
       "    <tr style=\"text-align: right;\">\n",
       "      <th></th>\n",
       "      <th></th>\n",
       "      <th>No_of_Orders</th>\n",
       "      <th>Profit</th>\n",
       "      <th>Sales</th>\n",
       "    </tr>\n",
       "    <tr>\n",
       "      <th>Market</th>\n",
       "      <th>Region</th>\n",
       "      <th></th>\n",
       "      <th></th>\n",
       "      <th></th>\n",
       "    </tr>\n",
       "  </thead>\n",
       "  <tbody>\n",
       "    <tr>\n",
       "      <th rowspan=\"5\" valign=\"top\">USCA</th>\n",
       "      <th>Western US</th>\n",
       "      <td>490</td>\n",
       "      <td>44303.65</td>\n",
       "      <td>251991.83</td>\n",
       "    </tr>\n",
       "    <tr>\n",
       "      <th>Southern US</th>\n",
       "      <td>255</td>\n",
       "      <td>19991.83</td>\n",
       "      <td>148771.91</td>\n",
       "    </tr>\n",
       "    <tr>\n",
       "      <th>Eastern US</th>\n",
       "      <td>443</td>\n",
       "      <td>47462.04</td>\n",
       "      <td>264973.98</td>\n",
       "    </tr>\n",
       "    <tr>\n",
       "      <th>Central US</th>\n",
       "      <td>356</td>\n",
       "      <td>33697.43</td>\n",
       "      <td>170416.31</td>\n",
       "    </tr>\n",
       "    <tr>\n",
       "      <th>Canada</th>\n",
       "      <td>49</td>\n",
       "      <td>7246.62</td>\n",
       "      <td>26298.81</td>\n",
       "    </tr>\n",
       "  </tbody>\n",
       "</table>\n",
       "</div>"
      ],
      "text/plain": [
       "                    No_of_Orders    Profit      Sales\n",
       "Market Region                                        \n",
       "USCA   Western US            490  44303.65  251991.83\n",
       "       Southern US           255  19991.83  148771.91\n",
       "       Eastern US            443  47462.04  264973.98\n",
       "       Central US            356  33697.43  170416.31\n",
       "       Canada                 49   7246.62   26298.81"
      ]
     },
     "execution_count": 18,
     "metadata": {},
     "output_type": "execute_result"
    }
   ],
   "source": [
    "sales.tail()"
   ]
  },
  {
   "cell_type": "code",
   "execution_count": 20,
   "metadata": {},
   "outputs": [
    {
     "data": {
      "text/html": [
       "<div>\n",
       "<style scoped>\n",
       "    .dataframe tbody tr th:only-of-type {\n",
       "        vertical-align: middle;\n",
       "    }\n",
       "\n",
       "    .dataframe tbody tr th {\n",
       "        vertical-align: top;\n",
       "    }\n",
       "\n",
       "    .dataframe thead th {\n",
       "        text-align: right;\n",
       "    }\n",
       "</style>\n",
       "<table border=\"1\" class=\"dataframe\">\n",
       "  <thead>\n",
       "    <tr style=\"text-align: right;\">\n",
       "      <th></th>\n",
       "      <th></th>\n",
       "      <th>No_of_Orders</th>\n",
       "      <th>Profit</th>\n",
       "      <th>Sales</th>\n",
       "    </tr>\n",
       "    <tr>\n",
       "      <th>Market</th>\n",
       "      <th>Region</th>\n",
       "      <th></th>\n",
       "      <th></th>\n",
       "      <th></th>\n",
       "    </tr>\n",
       "  </thead>\n",
       "  <tbody>\n",
       "    <tr>\n",
       "      <th rowspan=\"3\" valign=\"top\">USCA</th>\n",
       "      <th>Eastern US</th>\n",
       "      <td>443</td>\n",
       "      <td>47462.04</td>\n",
       "      <td>264973.98</td>\n",
       "    </tr>\n",
       "    <tr>\n",
       "      <th>Central US</th>\n",
       "      <td>356</td>\n",
       "      <td>33697.43</td>\n",
       "      <td>170416.31</td>\n",
       "    </tr>\n",
       "    <tr>\n",
       "      <th>Canada</th>\n",
       "      <td>49</td>\n",
       "      <td>7246.62</td>\n",
       "      <td>26298.81</td>\n",
       "    </tr>\n",
       "  </tbody>\n",
       "</table>\n",
       "</div>"
      ],
      "text/plain": [
       "                   No_of_Orders    Profit      Sales\n",
       "Market Region                                       \n",
       "USCA   Eastern US           443  47462.04  264973.98\n",
       "       Central US           356  33697.43  170416.31\n",
       "       Canada                49   7246.62   26298.81"
      ]
     },
     "execution_count": 20,
     "metadata": {},
     "output_type": "execute_result"
    }
   ],
   "source": [
    "sales.tail(3)"
   ]
  },
  {
   "cell_type": "markdown",
   "metadata": {},
   "source": [
    "<h4 style = \"color : Sky blue\"> Example - 2</h4>  \n",
    "\n",
    "##### Display the information about the data stored in data frame\n"
   ]
  },
  {
   "cell_type": "markdown",
   "metadata": {},
   "source": [
    "dataframe.info(): This method prints information about the dataframe, which includes the index data type and column data types\n",
    ", the count of non-null values and the memory used. \n",
    "dataframe.describe(): This function produces descriptive statistics for the dataframe, that is, the central tendency (mean, median, min, max, etc.),\n",
    "dispersion, etc. It analyses the data and generates output for both numeric and non-numeric data types accordingly. "
   ]
  },
  {
   "cell_type": "code",
   "execution_count": 23,
   "metadata": {},
   "outputs": [
    {
     "name": "stdout",
     "output_type": "stream",
     "text": [
      "<class 'pandas.core.frame.DataFrame'>\n",
      "MultiIndex: 23 entries, ('Africa', 'Western Africa') to ('USCA', 'Canada')\n",
      "Data columns (total 3 columns):\n",
      " #   Column        Non-Null Count  Dtype  \n",
      "---  ------        --------------  -----  \n",
      " 0   No_of_Orders  23 non-null     int64  \n",
      " 1   Profit        23 non-null     float64\n",
      " 2   Sales         23 non-null     float64\n",
      "dtypes: float64(2), int64(1)\n",
      "memory usage: 1.6+ KB\n"
     ]
    }
   ],
   "source": [
    "sales.info()"
   ]
  },
  {
   "cell_type": "markdown",
   "metadata": {},
   "source": [
    "##### Display the statistical information about the data in dataframe"
   ]
  },
  {
   "cell_type": "code",
   "execution_count": 26,
   "metadata": {},
   "outputs": [
    {
     "data": {
      "text/html": [
       "<div>\n",
       "<style scoped>\n",
       "    .dataframe tbody tr th:only-of-type {\n",
       "        vertical-align: middle;\n",
       "    }\n",
       "\n",
       "    .dataframe tbody tr th {\n",
       "        vertical-align: top;\n",
       "    }\n",
       "\n",
       "    .dataframe thead th {\n",
       "        text-align: right;\n",
       "    }\n",
       "</style>\n",
       "<table border=\"1\" class=\"dataframe\">\n",
       "  <thead>\n",
       "    <tr style=\"text-align: right;\">\n",
       "      <th></th>\n",
       "      <th>No_of_Orders</th>\n",
       "      <th>Profit</th>\n",
       "      <th>Sales</th>\n",
       "    </tr>\n",
       "  </thead>\n",
       "  <tbody>\n",
       "    <tr>\n",
       "      <th>count</th>\n",
       "      <td>23.000000</td>\n",
       "      <td>23.000000</td>\n",
       "      <td>23.000000</td>\n",
       "    </tr>\n",
       "    <tr>\n",
       "      <th>mean</th>\n",
       "      <td>366.478261</td>\n",
       "      <td>28859.944783</td>\n",
       "      <td>206285.108696</td>\n",
       "    </tr>\n",
       "    <tr>\n",
       "      <th>std</th>\n",
       "      <td>246.590361</td>\n",
       "      <td>27701.193773</td>\n",
       "      <td>160589.886606</td>\n",
       "    </tr>\n",
       "    <tr>\n",
       "      <th>min</th>\n",
       "      <td>37.000000</td>\n",
       "      <td>-16766.900000</td>\n",
       "      <td>8190.740000</td>\n",
       "    </tr>\n",
       "    <tr>\n",
       "      <th>25%</th>\n",
       "      <td>211.500000</td>\n",
       "      <td>12073.085000</td>\n",
       "      <td>82587.475000</td>\n",
       "    </tr>\n",
       "    <tr>\n",
       "      <th>50%</th>\n",
       "      <td>356.000000</td>\n",
       "      <td>20948.840000</td>\n",
       "      <td>170416.310000</td>\n",
       "    </tr>\n",
       "    <tr>\n",
       "      <th>75%</th>\n",
       "      <td>479.500000</td>\n",
       "      <td>45882.845000</td>\n",
       "      <td>290182.375000</td>\n",
       "    </tr>\n",
       "    <tr>\n",
       "      <th>max</th>\n",
       "      <td>964.000000</td>\n",
       "      <td>82091.270000</td>\n",
       "      <td>656637.140000</td>\n",
       "    </tr>\n",
       "  </tbody>\n",
       "</table>\n",
       "</div>"
      ],
      "text/plain": [
       "       No_of_Orders        Profit          Sales\n",
       "count     23.000000     23.000000      23.000000\n",
       "mean     366.478261  28859.944783  206285.108696\n",
       "std      246.590361  27701.193773  160589.886606\n",
       "min       37.000000 -16766.900000    8190.740000\n",
       "25%      211.500000  12073.085000   82587.475000\n",
       "50%      356.000000  20948.840000  170416.310000\n",
       "75%      479.500000  45882.845000  290182.375000\n",
       "max      964.000000  82091.270000  656637.140000"
      ]
     },
     "execution_count": 26,
     "metadata": {},
     "output_type": "execute_result"
    }
   ],
   "source": [
    "sales.describe()"
   ]
  },
  {
   "cell_type": "code",
   "execution_count": 28,
   "metadata": {},
   "outputs": [
    {
     "data": {
      "image/png": "[encoded data removed]",
      "text/plain": [
       "<Figure size 640x480 with 2 Axes>"
      ]
     },
     "metadata": {},
     "output_type": "display_data"
    }
   ],
   "source": [
    "sales[[\"Sales\", \"Profit\"]].plot(kind= \"box\", subplots= True)\n",
    "plt.show()"
   ]
  },
  {
   "cell_type": "code",
   "execution_count": 29,
   "metadata": {},
   "outputs": [
    {
     "data": {
      "text/plain": [
       "Market        Region           \n",
       "Africa        Western Africa      -12901.51\n",
       "              Southern Africa      11768.58\n",
       "              North Africa         21643.08\n",
       "              Eastern Africa        8013.04\n",
       "              Central Africa       15606.30\n",
       "Asia Pacific  Western Asia        -16766.90\n",
       "              Southern Asia        67998.76\n",
       "              Southeastern Asia    20948.84\n",
       "              Oceania              54734.02\n",
       "              Eastern Asia         72805.10\n",
       "              Central Asia         -2649.76\n",
       "Europe        Western Europe       82091.27\n",
       "              Southern Europe      18911.49\n",
       "              Northern Europe      43237.44\n",
       "              Eastern Europe       25050.69\n",
       "LATAM         South America        12377.59\n",
       "              Central America      74679.54\n",
       "              Caribbean            13529.59\n",
       "USCA          Western US           44303.65\n",
       "              Southern US          19991.83\n",
       "              Eastern US           47462.04\n",
       "              Central US           33697.43\n",
       "              Canada                7246.62\n",
       "Name: Profit, dtype: float64"
      ]
     },
     "execution_count": 29,
     "metadata": {},
     "output_type": "execute_result"
    }
   ],
   "source": [
    "sales[\"Profit\"]"
   ]
  },
  {
   "cell_type": "markdown",
   "metadata": {},
   "source": [
    "rating = pd.read_csv(\"rating.csv\", header = 0, index_col = [2,1])\n",
    "rating.sort_index()\n",
    "print(df.describe())\n",
    "print(df.columns)\n",
    "print(df.shape)"
   ]
  },
  {
   "cell_type": "code",
   "execution_count": 67,
   "metadata": {},
   "outputs": [
    {
     "data": {
      "text/html": [
       "<div>\n",
       "<style scoped>\n",
       "    .dataframe tbody tr th:only-of-type {\n",
       "        vertical-align: middle;\n",
       "    }\n",
       "\n",
       "    .dataframe tbody tr th {\n",
       "        vertical-align: top;\n",
       "    }\n",
       "\n",
       "    .dataframe thead th {\n",
       "        text-align: right;\n",
       "    }\n",
       "</style>\n",
       "<table border=\"1\" class=\"dataframe\">\n",
       "  <thead>\n",
       "    <tr style=\"text-align: right;\">\n",
       "      <th></th>\n",
       "      <th>0</th>\n",
       "      <th>1</th>\n",
       "      <th>2</th>\n",
       "      <th>3</th>\n",
       "    </tr>\n",
       "  </thead>\n",
       "  <tbody>\n",
       "    <tr>\n",
       "      <th>0</th>\n",
       "      <td>ID</td>\n",
       "      <td>Department</td>\n",
       "      <td>Office</td>\n",
       "      <td>Rating</td>\n",
       "    </tr>\n",
       "    <tr>\n",
       "      <th>1</th>\n",
       "      <td>U2F26</td>\n",
       "      <td>Finance</td>\n",
       "      <td>New Delhi</td>\n",
       "      <td>3.4</td>\n",
       "    </tr>\n",
       "    <tr>\n",
       "      <th>2</th>\n",
       "      <td>U2M61</td>\n",
       "      <td>Marketing</td>\n",
       "      <td>New Delhi</td>\n",
       "      <td>3.9</td>\n",
       "    </tr>\n",
       "    <tr>\n",
       "      <th>3</th>\n",
       "      <td>U1S15</td>\n",
       "      <td>Sales</td>\n",
       "      <td>New Delhi</td>\n",
       "      <td>2.8</td>\n",
       "    </tr>\n",
       "    <tr>\n",
       "      <th>4</th>\n",
       "      <td>U1H87</td>\n",
       "      <td>HR</td>\n",
       "      <td>Mumbai</td>\n",
       "      <td>2.1</td>\n",
       "    </tr>\n",
       "    <tr>\n",
       "      <th>...</th>\n",
       "      <td>...</td>\n",
       "      <td>...</td>\n",
       "      <td>...</td>\n",
       "      <td>...</td>\n",
       "    </tr>\n",
       "    <tr>\n",
       "      <th>529</th>\n",
       "      <td>U3S44</td>\n",
       "      <td>Sales</td>\n",
       "      <td>New Delhi</td>\n",
       "      <td>4.8</td>\n",
       "    </tr>\n",
       "    <tr>\n",
       "      <th>530</th>\n",
       "      <td>U2M11</td>\n",
       "      <td>Marketing</td>\n",
       "      <td>Bangalore</td>\n",
       "      <td>2.5</td>\n",
       "    </tr>\n",
       "    <tr>\n",
       "      <th>531</th>\n",
       "      <td>U3F53</td>\n",
       "      <td>Finance</td>\n",
       "      <td>Bangalore</td>\n",
       "      <td>3.2</td>\n",
       "    </tr>\n",
       "    <tr>\n",
       "      <th>532</th>\n",
       "      <td>U3S46</td>\n",
       "      <td>Sales</td>\n",
       "      <td>Bangalore</td>\n",
       "      <td>2.9</td>\n",
       "    </tr>\n",
       "    <tr>\n",
       "      <th>533</th>\n",
       "      <td>U3S28</td>\n",
       "      <td>Sales</td>\n",
       "      <td>New Delhi</td>\n",
       "      <td>2.9</td>\n",
       "    </tr>\n",
       "  </tbody>\n",
       "</table>\n",
       "<p>534 rows × 4 columns</p>\n",
       "</div>"
      ],
      "text/plain": [
       "         0           1          2       3\n",
       "0       ID  Department     Office  Rating\n",
       "1    U2F26     Finance  New Delhi     3.4\n",
       "2    U2M61   Marketing  New Delhi     3.9\n",
       "3    U1S15       Sales  New Delhi     2.8\n",
       "4    U1H87          HR     Mumbai     2.1\n",
       "..     ...         ...        ...     ...\n",
       "529  U3S44       Sales  New Delhi     4.8\n",
       "530  U2M11   Marketing  Bangalore     2.5\n",
       "531  U3F53     Finance  Bangalore     3.2\n",
       "532  U3S46       Sales  Bangalore     2.9\n",
       "533  U3S28       Sales  New Delhi     2.9\n",
       "\n",
       "[534 rows x 4 columns]"
      ]
     },
     "execution_count": 67,
     "metadata": {},
     "output_type": "execute_result"
    }
   ],
   "source": [
    "import numpy as np\n",
    "import pandas as pd\n",
    "\n",
    "# Take input dataframe\n",
    "# df = pd.read_csv('https://kh-prod-codelabs.s3.ap-south-1.amazonaws.com/rating-0043c726e84f43b7ad273333542c0d44.csv', header = None, sep = '|',index_col=[0,1])\n",
    "# Provide your answer below\n",
    "# sales = pd.read_excel('sales.xlsx')\n",
    "\n",
    "import numpy as np\n",
    "import pandas as pd\n",
    "\n",
    "\n",
    "\n",
    "# Read the CSV\n",
    "df = pd.read_csv('rating.csv', header=None)\n",
    "df\n",
    "\n"
   ]
  },
  {
   "cell_type": "code",
   "execution_count": 69,
   "metadata": {},
   "outputs": [
    {
     "name": "stdout",
     "output_type": "stream",
     "text": [
      "                         ID Rating\n",
      "Office    Department              \n",
      "Bangalore Finance     U2F53    2.7\n",
      "          Finance     U1F53    3.7\n",
      "          Finance     U1F28    3.2\n",
      "          Finance     U1F15    3.3\n",
      "          Finance     U1F14    2.9\n"
     ]
    }
   ],
   "source": [
    "# Assign proper column names in correct order\n",
    "df.columns = ['ID', 'Department', 'Office', 'Rating']\n",
    "df.set_index(['Office', 'Department'], inplace=True)\n",
    "# Set multi-index (Office and Department)\n",
    "\n",
    "\n",
    "# Sort the index\n",
    "df.sort_index(inplace=True)\n",
    "\n",
    "# Print top 5 rows\n",
    "print(df.head(5))"
   ]
  },
  {
   "cell_type": "markdown",
   "metadata": {},
   "source": []
  },
  {
   "cell_type": "markdown",
   "metadata": {},
   "source": []
  },
  {
   "cell_type": "code",
   "execution_count": null,
   "metadata": {},
   "outputs": [],
   "source": []
  },
  {
   "cell_type": "code",
   "execution_count": null,
   "metadata": {},
   "outputs": [],
   "source": []
  },
  {
   "cell_type": "code",
   "execution_count": null,
   "metadata": {},
   "outputs": [],
   "source": []
  }
 ],
 "metadata": {
  "kernelspec": {
   "display_name": "Python [conda env:base] *",
   "language": "python",
   "name": "conda-base-py"
  },
  "language_info": {
   "codemirror_mode": {
    "name": "ipython",
    "version": 3
   },
   "file_extension": ".py",
   "mimetype": "text/x-python",
   "name": "python",
   "nbconvert_exporter": "python",
   "pygments_lexer": "ipython3",
   "version": "3.12.7"
  }
 },
 "nbformat": 4,
 "nbformat_minor": 4
}
