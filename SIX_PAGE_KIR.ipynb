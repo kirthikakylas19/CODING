{
 "cells": [
  {
   "cell_type": "markdown",
   "metadata": {},
   "source": [
    "### Compare Computation Times in NumPy and Standard Python Lists\n",
    "\n",
    "Now that we know how to use numpy, let us see code and witness the key advantages of numpy i.e. convenience and speed of computation. \n",
    "\n",
    "In the data science landscape, you'll often work with extremely large datasets, and thus it is important point for you to understand how much computation time (and memory) you can save using numpy, compared to standard python lists.   \n",
    "\n",
    "Let's compare the computation times of arrays and lists for a simple task of calculating the element-wise product of numbers. "
   ]
  },
  {
   "cell_type": "code",
   "execution_count": 10,
   "metadata": {},
   "outputs": [],
   "source": [
    "import time"
   ]
  },
  {
   "cell_type": "code",
   "execution_count": 15,
   "metadata": {},
   "outputs": [
    {
     "name": "stdout",
     "output_type": "stream",
     "text": [
      "0.1251368522644043\n",
      "0.005321025848388672\n",
      "The ratio of time taken is 23.0\n"
     ]
    }
   ],
   "source": [
    "## Comparing time taken for computation\n",
    "list_1 = [i for i in range(1000000)]\n",
    "list_2 = [j**2 for j in range(1000000)]\n",
    "\n",
    "t0 = time.time()\n",
    "product_list = list(map(lambda x, y: x*y, list_1, list_2))\n",
    "t1 = time.time()\n",
    "list_time = t1 - t0\n",
    "print (t1-t0)\n",
    "\n",
    "# numpy array \n",
    "array_1 = np.array(list_1)\n",
    "array_2 = np.array(list_2)\n",
    "\n",
    "t0 = time.time()\n",
    "product_numpy = array_1 * array_2\n",
    "t1 = time.time()\n",
    "numpy_time = t1 - t0\n",
    "print (t1-t0)\n",
    "\n",
    "print(\"The ratio of time taken is {}\".format(list_time//numpy_time))"
   ]
  },
  {
   "cell_type": "markdown",
   "metadata": {},
   "source": [
    "In this case, numpy is **an order of magnitude faster** than lists. This is with arrays of size in millions, but you may work on much larger arrays of sizes in order of billions. Then, the difference is even larger.\n",
    "\n",
    "Some reasons for such difference in speed are:\n",
    "* NumPy is written in C, which is basically being executed behind the scenes\n",
    "* NumPy arrays are more compact than lists, i.e. they take much lesser storage space than lists\n",
    "\n",
    "\n",
    "The following discussions demonstrate the differences in speeds of NumPy and standard python:\n",
    "1. https://stackoverflow.com/questions/8385602/why-are-numpy-arrays-so-fast\n",
    "2. https://stackoverflow.com/questions/993984/why-numpy-instead-of-python-lists"
   ]
  },
  {
   "cell_type": "markdown",
   "metadata": {},
   "source": [
    "Given a 2D NumPy array, sort it by the 1st column. Print the final sorted array as a NumPy array only.\n",
    "Note: If two values in the 1st column are equal then the column in which the 2nd column value is lesser should come first. If the value in the second column is also the same then go to the third value and so on.\n",
    "\n",
    "Example:\n",
    "\n",
    "Input 1:\n",
    "\n",
    "[[9 3 2]\n",
    "\n",
    " [4 0 1]\n",
    "\n",
    " [5 8 6]]\n",
    "\n",
    "Output 1:\n",
    "\n",
    "[[4 0 1]\n",
    "\n",
    " [5 8 6]\n",
    "\n",
    " [9 3 2]]\n",
    "\n",
    "Input 2:\n",
    "\n",
    "[[9 3 2]\n",
    "\n",
    " [4 0 1]\n",
    "\n",
    " [9 8 6]]\n",
    "\n",
    "Output 2:\n",
    "\n",
    "[[4 0 1]\n",
    "\n",
    " [9 3 2]\n",
    "\n",
    " [9 8 6]]\n",
    "\n",
    "\n",
    "\n",
    "Explanation:\n",
    "\n",
    "Example 1: Notice that the values in the first column are sorted. Also notice that the whole row should be moved and not just the individual values in the first column. For example, the row with the smallest value, i.e. 4 was moved as a whole. \n",
    "\n",
    "Example 2: Since this time the first row contains two 9s, the row in which the value in the second column is lesser came first."
   ]
  },
  {
   "cell_type": "code",
   "execution_count": 3,
   "metadata": {},
   "outputs": [
    {
     "name": "stdin",
     "output_type": "stream",
     "text": [
      " [     [9, 3, 2],     [4, 0, 1],     [9, 8, 6]]\n"
     ]
    },
    {
     "name": "stdout",
     "output_type": "stream",
     "text": [
      "[[4 0 1]\n",
      " [9 3 2]\n",
      " [9 8 6]]\n"
     ]
    }
   ],
   "source": [
    "# Reading the input list METHOD 1\n",
    "import ast,sys\n",
    "# input_str = sys.stdin.read()\n",
    "input_str=input()\n",
    "input_list = ast.literal_eval(input_str)\n",
    "\n",
    "# Import the NumPy package\n",
    "import numpy as np\n",
    "\n",
    "# Converting the list to a NumPy array\n",
    "n_array = np.array(input_list)\n",
    "\n",
    "# Sort the array using the argsort() argument. You can also specify the type of\n",
    "# sort you need in the argsort() argument but it isn't necessary. Notice the \n",
    "# indexing is the main key here. The array is sorted by the row or column that you\n",
    "# specify in the index\n",
    "for i in range(len(n_array[0, :])):\n",
    "    n_array = n_array[n_array[:,-1-i].argsort()]\n",
    "\n",
    "# Print the final sorted array\n",
    "print(n_array)"
   ]
  },
  {
   "cell_type": "code",
   "execution_count": 5,
   "metadata": {},
   "outputs": [
    {
     "name": "stdout",
     "output_type": "stream",
     "text": [
      "[[4 0 1]\n",
      " [9 3 2]\n",
      " [9 8 6]]\n"
     ]
    }
   ],
   "source": [
    "# METHOD 2\n",
    "import numpy as np\n",
    "\n",
    "# Example input\n",
    "arr = np.array([\n",
    "    [9, 3, 2],\n",
    "    [4, 0, 1],\n",
    "    [9, 8, 6]\n",
    "])\n",
    "\n",
    "# Use np.lexsort to sort by all columns starting from the last\n",
    "sorted_arr = arr[np.lexsort(arr.T[::-1])]\n",
    "print(sorted_arr)\n"
   ]
  },
  {
   "cell_type": "code",
   "execution_count": null,
   "metadata": {},
   "outputs": [],
   "source": []
  }
 ],
 "metadata": {
  "kernelspec": {
   "display_name": "Python [conda env:base] *",
   "language": "python",
   "name": "conda-base-py"
  },
  "language_info": {
   "codemirror_mode": {
    "name": "ipython",
    "version": 3
   },
   "file_extension": ".py",
   "mimetype": "text/x-python",
   "name": "python",
   "nbconvert_exporter": "python",
   "pygments_lexer": "ipython3",
   "version": "3.12.7"
  }
 },
 "nbformat": 4,
 "nbformat_minor": 4
}
