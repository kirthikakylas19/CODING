{
 "cells": [
  {
   "cell_type": "markdown",
   "metadata": {},
   "source": [
    "## Practice Exercise 2"
   ]
  },
  {
   "cell_type": "markdown",
   "metadata": {},
   "source": [
    "In this assignment, you will try to find some interesting insights into a few movies released between 1916 and 2016, using Python. You will have to download a movie dataset, write Python code to explore the data, gain insights into the movies, actors, directors, and collections, and submit the code."
   ]
  },
  {
   "cell_type": "markdown",
   "metadata": {},
   "source": [
    "#### Some tips before starting the assignment\n",
    "\n",
    "1. Identify the task to be performed correctly, and only then proceed to write the required code. Don’t perform any incorrect analysis or look for information that isn’t required for the assignment.\n",
    "2. In some cases, the variable names have already been assigned, and you just need to write code against them. In other cases, the names to be given are mentioned in the instructions. We strongly advise you to use the mentioned names only.\n",
    "3. Always keep inspecting your data frame after you have performed a particular set of operations.\n",
    "4. There are some checkpoints given in the IPython notebook provided. They're just useful pieces of information you can use to check if the result you have obtained after performing a particular task is correct or not.\n",
    "5. Note that you will be asked to refer to documentation for solving some of the questions. That is done on purpose for you to learn new commands and also how to use the documentation."
   ]
  },
  {
   "cell_type": "code",
   "execution_count": 4,
   "metadata": {},
   "outputs": [],
   "source": [
    "# Import the numpy and pandas packages\n",
    "\n",
    "import numpy as np\n",
    "import pandas as pd"
   ]
  },
  {
   "cell_type": "markdown",
   "metadata": {},
   "source": [
    "### Task 1: Reading and Inspection\n",
    "\n",
    "**Subtask 1.1: Import and read**\n",
    "\n",
    "Import and read the movie database. Store it in a variable called `movies`."
   ]
  },
  {
   "cell_type": "code",
   "execution_count": 7,
   "metadata": {},
   "outputs": [
    {
     "data": {
      "text/html": [
       "<div>\n",
       "<style scoped>\n",
       "    .dataframe tbody tr th:only-of-type {\n",
       "        vertical-align: middle;\n",
       "    }\n",
       "\n",
       "    .dataframe tbody tr th {\n",
       "        vertical-align: top;\n",
       "    }\n",
       "\n",
       "    .dataframe thead th {\n",
       "        text-align: right;\n",
       "    }\n",
       "</style>\n",
       "<table border=\"1\" class=\"dataframe\">\n",
       "  <thead>\n",
       "    <tr style=\"text-align: right;\">\n",
       "      <th></th>\n",
       "      <th>color</th>\n",
       "      <th>director_name</th>\n",
       "      <th>num_critic_for_reviews</th>\n",
       "      <th>duration</th>\n",
       "      <th>director_facebook_likes</th>\n",
       "      <th>actor_3_facebook_likes</th>\n",
       "      <th>actor_2_name</th>\n",
       "      <th>actor_1_facebook_likes</th>\n",
       "      <th>gross</th>\n",
       "      <th>genres</th>\n",
       "      <th>...</th>\n",
       "      <th>num_user_for_reviews</th>\n",
       "      <th>language</th>\n",
       "      <th>country</th>\n",
       "      <th>content_rating</th>\n",
       "      <th>budget</th>\n",
       "      <th>title_year</th>\n",
       "      <th>actor_2_facebook_likes</th>\n",
       "      <th>imdb_score</th>\n",
       "      <th>aspect_ratio</th>\n",
       "      <th>movie_facebook_likes</th>\n",
       "    </tr>\n",
       "  </thead>\n",
       "  <tbody>\n",
       "    <tr>\n",
       "      <th>0</th>\n",
       "      <td>Color</td>\n",
       "      <td>James Cameron</td>\n",
       "      <td>723.0</td>\n",
       "      <td>178.0</td>\n",
       "      <td>0.0</td>\n",
       "      <td>855.0</td>\n",
       "      <td>Joel David Moore</td>\n",
       "      <td>1000.0</td>\n",
       "      <td>760505847.0</td>\n",
       "      <td>Action|Adventure|Fantasy|Sci-Fi</td>\n",
       "      <td>...</td>\n",
       "      <td>3054.0</td>\n",
       "      <td>English</td>\n",
       "      <td>USA</td>\n",
       "      <td>PG-13</td>\n",
       "      <td>237000000.0</td>\n",
       "      <td>2009.0</td>\n",
       "      <td>936.0</td>\n",
       "      <td>7.9</td>\n",
       "      <td>1.78</td>\n",
       "      <td>33000</td>\n",
       "    </tr>\n",
       "    <tr>\n",
       "      <th>1</th>\n",
       "      <td>Color</td>\n",
       "      <td>Gore Verbinski</td>\n",
       "      <td>302.0</td>\n",
       "      <td>169.0</td>\n",
       "      <td>563.0</td>\n",
       "      <td>1000.0</td>\n",
       "      <td>Orlando Bloom</td>\n",
       "      <td>40000.0</td>\n",
       "      <td>309404152.0</td>\n",
       "      <td>Action|Adventure|Fantasy</td>\n",
       "      <td>...</td>\n",
       "      <td>1238.0</td>\n",
       "      <td>English</td>\n",
       "      <td>USA</td>\n",
       "      <td>PG-13</td>\n",
       "      <td>300000000.0</td>\n",
       "      <td>2007.0</td>\n",
       "      <td>5000.0</td>\n",
       "      <td>7.1</td>\n",
       "      <td>2.35</td>\n",
       "      <td>0</td>\n",
       "    </tr>\n",
       "    <tr>\n",
       "      <th>2</th>\n",
       "      <td>Color</td>\n",
       "      <td>Sam Mendes</td>\n",
       "      <td>602.0</td>\n",
       "      <td>148.0</td>\n",
       "      <td>0.0</td>\n",
       "      <td>161.0</td>\n",
       "      <td>Rory Kinnear</td>\n",
       "      <td>11000.0</td>\n",
       "      <td>200074175.0</td>\n",
       "      <td>Action|Adventure|Thriller</td>\n",
       "      <td>...</td>\n",
       "      <td>994.0</td>\n",
       "      <td>English</td>\n",
       "      <td>UK</td>\n",
       "      <td>PG-13</td>\n",
       "      <td>245000000.0</td>\n",
       "      <td>2015.0</td>\n",
       "      <td>393.0</td>\n",
       "      <td>6.8</td>\n",
       "      <td>2.35</td>\n",
       "      <td>85000</td>\n",
       "    </tr>\n",
       "    <tr>\n",
       "      <th>3</th>\n",
       "      <td>Color</td>\n",
       "      <td>Christopher Nolan</td>\n",
       "      <td>813.0</td>\n",
       "      <td>164.0</td>\n",
       "      <td>22000.0</td>\n",
       "      <td>23000.0</td>\n",
       "      <td>Christian Bale</td>\n",
       "      <td>27000.0</td>\n",
       "      <td>448130642.0</td>\n",
       "      <td>Action|Thriller</td>\n",
       "      <td>...</td>\n",
       "      <td>2701.0</td>\n",
       "      <td>English</td>\n",
       "      <td>USA</td>\n",
       "      <td>PG-13</td>\n",
       "      <td>250000000.0</td>\n",
       "      <td>2012.0</td>\n",
       "      <td>23000.0</td>\n",
       "      <td>8.5</td>\n",
       "      <td>2.35</td>\n",
       "      <td>164000</td>\n",
       "    </tr>\n",
       "    <tr>\n",
       "      <th>4</th>\n",
       "      <td>Color</td>\n",
       "      <td>Andrew Stanton</td>\n",
       "      <td>462.0</td>\n",
       "      <td>132.0</td>\n",
       "      <td>475.0</td>\n",
       "      <td>530.0</td>\n",
       "      <td>Samantha Morton</td>\n",
       "      <td>640.0</td>\n",
       "      <td>73058679.0</td>\n",
       "      <td>Action|Adventure|Sci-Fi</td>\n",
       "      <td>...</td>\n",
       "      <td>738.0</td>\n",
       "      <td>English</td>\n",
       "      <td>USA</td>\n",
       "      <td>PG-13</td>\n",
       "      <td>263700000.0</td>\n",
       "      <td>2012.0</td>\n",
       "      <td>632.0</td>\n",
       "      <td>6.6</td>\n",
       "      <td>2.35</td>\n",
       "      <td>24000</td>\n",
       "    </tr>\n",
       "  </tbody>\n",
       "</table>\n",
       "<p>5 rows × 28 columns</p>\n",
       "</div>"
      ],
      "text/plain": [
       "   color      director_name  num_critic_for_reviews  duration  \\\n",
       "0  Color      James Cameron                   723.0     178.0   \n",
       "1  Color     Gore Verbinski                   302.0     169.0   \n",
       "2  Color         Sam Mendes                   602.0     148.0   \n",
       "3  Color  Christopher Nolan                   813.0     164.0   \n",
       "4  Color     Andrew Stanton                   462.0     132.0   \n",
       "\n",
       "   director_facebook_likes  actor_3_facebook_likes      actor_2_name  \\\n",
       "0                      0.0                   855.0  Joel David Moore   \n",
       "1                    563.0                  1000.0     Orlando Bloom   \n",
       "2                      0.0                   161.0      Rory Kinnear   \n",
       "3                  22000.0                 23000.0    Christian Bale   \n",
       "4                    475.0                   530.0   Samantha Morton   \n",
       "\n",
       "   actor_1_facebook_likes        gross                           genres  ...  \\\n",
       "0                  1000.0  760505847.0  Action|Adventure|Fantasy|Sci-Fi  ...   \n",
       "1                 40000.0  309404152.0         Action|Adventure|Fantasy  ...   \n",
       "2                 11000.0  200074175.0        Action|Adventure|Thriller  ...   \n",
       "3                 27000.0  448130642.0                  Action|Thriller  ...   \n",
       "4                   640.0   73058679.0          Action|Adventure|Sci-Fi  ...   \n",
       "\n",
       "  num_user_for_reviews language  country  content_rating       budget  \\\n",
       "0               3054.0  English      USA           PG-13  237000000.0   \n",
       "1               1238.0  English      USA           PG-13  300000000.0   \n",
       "2                994.0  English       UK           PG-13  245000000.0   \n",
       "3               2701.0  English      USA           PG-13  250000000.0   \n",
       "4                738.0  English      USA           PG-13  263700000.0   \n",
       "\n",
       "   title_year actor_2_facebook_likes imdb_score  aspect_ratio  \\\n",
       "0      2009.0                  936.0        7.9          1.78   \n",
       "1      2007.0                 5000.0        7.1          2.35   \n",
       "2      2015.0                  393.0        6.8          2.35   \n",
       "3      2012.0                23000.0        8.5          2.35   \n",
       "4      2012.0                  632.0        6.6          2.35   \n",
       "\n",
       "  movie_facebook_likes  \n",
       "0                33000  \n",
       "1                    0  \n",
       "2                85000  \n",
       "3               164000  \n",
       "4                24000  \n",
       "\n",
       "[5 rows x 28 columns]"
      ]
     },
     "execution_count": 7,
     "metadata": {},
     "output_type": "execute_result"
    }
   ],
   "source": [
    "# Write your code for importing the csv file here\n",
    "movies =  pd.read_csv(\"Movies.csv\", header = 0)\n",
    "movies.head()"
   ]
  },
  {
   "cell_type": "markdown",
   "metadata": {},
   "source": [
    "**Subtask 1.2: Inspect the dataframe**\n",
    "\n",
    "Inspect the dataframe's columns, shapes, variable types etc."
   ]
  },
  {
   "cell_type": "code",
   "execution_count": 10,
   "metadata": {},
   "outputs": [
    {
     "data": {
      "text/plain": [
       "(3853, 28)"
      ]
     },
     "execution_count": 10,
     "metadata": {},
     "output_type": "execute_result"
    }
   ],
   "source": [
    "# Write your code for inspection here\n",
    "movies.shape"
   ]
  },
  {
   "cell_type": "markdown",
   "metadata": {},
   "source": [
    "#### <font color='red'>Question 1: How many rows and columns are present in the dataframe? </font>\n",
    "-  <font color='red'>(3821, 26)</font>\n",
    "-  <font color='red'>(3879, 28)</font>\n",
    "-  <font color='red'>(3853, 28)</font>\n",
    "-  <font color='red'>(3866, 26)</font>"
   ]
  },
  {
   "cell_type": "markdown",
   "metadata": {},
   "source": [
    "#### <font color='red'>Question 2: How many columns have null values present in them? Try writing a code for this instead of counting them manually.</font>\n",
    "\n",
    "-  <font color='red'>3</font>\n",
    "-  <font color='red'>6</font>\n",
    "-  <font color='red'>9</font>\n",
    "-  <font color='red'>12</font>"
   ]
  },
  {
   "cell_type": "code",
   "execution_count": 14,
   "metadata": {},
   "outputs": [
    {
     "name": "stdout",
     "output_type": "stream",
     "text": [
      "12\n"
     ]
    }
   ],
   "source": [
    "\n",
    "print(movies.isnull().any().sum()) "
   ]
  },
  {
   "cell_type": "code",
   "execution_count": 16,
   "metadata": {},
   "outputs": [
    {
     "name": "stdout",
     "output_type": "stream",
     "text": [
      "<class 'pandas.core.frame.DataFrame'>\n",
      "RangeIndex: 3853 entries, 0 to 3852\n",
      "Data columns (total 28 columns):\n",
      " #   Column                     Non-Null Count  Dtype  \n",
      "---  ------                     --------------  -----  \n",
      " 0   color                      3851 non-null   object \n",
      " 1   director_name              3853 non-null   object \n",
      " 2   num_critic_for_reviews     3852 non-null   float64\n",
      " 3   duration                   3852 non-null   float64\n",
      " 4   director_facebook_likes    3853 non-null   float64\n",
      " 5   actor_3_facebook_likes     3847 non-null   float64\n",
      " 6   actor_2_name               3852 non-null   object \n",
      " 7   actor_1_facebook_likes     3853 non-null   float64\n",
      " 8   gross                      3853 non-null   float64\n",
      " 9   genres                     3853 non-null   object \n",
      " 10  actor_1_name               3853 non-null   object \n",
      " 11  movie_title                3853 non-null   object \n",
      " 12  num_voted_users            3853 non-null   int64  \n",
      " 13  cast_total_facebook_likes  3853 non-null   int64  \n",
      " 14  actor_3_name               3847 non-null   object \n",
      " 15  facenumber_in_poster       3847 non-null   float64\n",
      " 16  plot_keywords              3823 non-null   object \n",
      " 17  movie_imdb_link            3853 non-null   object \n",
      " 18  num_user_for_reviews       3853 non-null   float64\n",
      " 19  language                   3849 non-null   object \n",
      " 20  country                    3853 non-null   object \n",
      " 21  content_rating             3805 non-null   object \n",
      " 22  budget                     3853 non-null   float64\n",
      " 23  title_year                 3853 non-null   float64\n",
      " 24  actor_2_facebook_likes     3852 non-null   float64\n",
      " 25  imdb_score                 3853 non-null   float64\n",
      " 26  aspect_ratio               3781 non-null   float64\n",
      " 27  movie_facebook_likes       3853 non-null   int64  \n",
      "dtypes: float64(13), int64(3), object(12)\n",
      "memory usage: 843.0+ KB\n"
     ]
    }
   ],
   "source": [
    "movies.info()"
   ]
  },
  {
   "cell_type": "markdown",
   "metadata": {},
   "source": [
    "### Task 2: Cleaning the Data\n",
    "\n",
    "**Subtask 2.1: Drop unecessary columns**\n",
    "\n",
    "For this assignment, you will mostly be analyzing the movies with respect to the ratings, gross collection, popularity of movies, etc. So many of the columns in this dataframe are not required. So it is advised to drop the following columns.\n",
    "-  color\n",
    "-  director_facebook_likes\n",
    "-  actor_1_facebook_likes\n",
    "-  actor_2_facebook_likes\n",
    "-  actor_3_facebook_likes\n",
    "-  actor_2_name\n",
    "-  cast_total_facebook_likes\n",
    "-  actor_3_name\n",
    "-  duration\n",
    "-  facenumber_in_poster\n",
    "-  content_rating\n",
    "-  country\n",
    "-  movie_imdb_link\n",
    "-  aspect_ratio\n",
    "-  plot_keywords"
   ]
  },
  {
   "cell_type": "code",
   "execution_count": 19,
   "metadata": {},
   "outputs": [
    {
     "data": {
      "text/html": [
       "<div>\n",
       "<style scoped>\n",
       "    .dataframe tbody tr th:only-of-type {\n",
       "        vertical-align: middle;\n",
       "    }\n",
       "\n",
       "    .dataframe tbody tr th {\n",
       "        vertical-align: top;\n",
       "    }\n",
       "\n",
       "    .dataframe thead th {\n",
       "        text-align: right;\n",
       "    }\n",
       "</style>\n",
       "<table border=\"1\" class=\"dataframe\">\n",
       "  <thead>\n",
       "    <tr style=\"text-align: right;\">\n",
       "      <th></th>\n",
       "      <th>director_name</th>\n",
       "      <th>num_critic_for_reviews</th>\n",
       "      <th>gross</th>\n",
       "      <th>genres</th>\n",
       "      <th>actor_1_name</th>\n",
       "      <th>movie_title</th>\n",
       "      <th>num_voted_users</th>\n",
       "      <th>num_user_for_reviews</th>\n",
       "      <th>language</th>\n",
       "      <th>budget</th>\n",
       "      <th>title_year</th>\n",
       "      <th>imdb_score</th>\n",
       "      <th>movie_facebook_likes</th>\n",
       "    </tr>\n",
       "  </thead>\n",
       "  <tbody>\n",
       "    <tr>\n",
       "      <th>0</th>\n",
       "      <td>James Cameron</td>\n",
       "      <td>723.0</td>\n",
       "      <td>760505847.0</td>\n",
       "      <td>Action|Adventure|Fantasy|Sci-Fi</td>\n",
       "      <td>CCH Pounder</td>\n",
       "      <td>Avatar</td>\n",
       "      <td>886204</td>\n",
       "      <td>3054.0</td>\n",
       "      <td>English</td>\n",
       "      <td>237000000.0</td>\n",
       "      <td>2009.0</td>\n",
       "      <td>7.9</td>\n",
       "      <td>33000</td>\n",
       "    </tr>\n",
       "    <tr>\n",
       "      <th>1</th>\n",
       "      <td>Gore Verbinski</td>\n",
       "      <td>302.0</td>\n",
       "      <td>309404152.0</td>\n",
       "      <td>Action|Adventure|Fantasy</td>\n",
       "      <td>Johnny Depp</td>\n",
       "      <td>Pirates of the Caribbean: At World's End</td>\n",
       "      <td>471220</td>\n",
       "      <td>1238.0</td>\n",
       "      <td>English</td>\n",
       "      <td>300000000.0</td>\n",
       "      <td>2007.0</td>\n",
       "      <td>7.1</td>\n",
       "      <td>0</td>\n",
       "    </tr>\n",
       "    <tr>\n",
       "      <th>2</th>\n",
       "      <td>Sam Mendes</td>\n",
       "      <td>602.0</td>\n",
       "      <td>200074175.0</td>\n",
       "      <td>Action|Adventure|Thriller</td>\n",
       "      <td>Christoph Waltz</td>\n",
       "      <td>Spectre</td>\n",
       "      <td>275868</td>\n",
       "      <td>994.0</td>\n",
       "      <td>English</td>\n",
       "      <td>245000000.0</td>\n",
       "      <td>2015.0</td>\n",
       "      <td>6.8</td>\n",
       "      <td>85000</td>\n",
       "    </tr>\n",
       "    <tr>\n",
       "      <th>3</th>\n",
       "      <td>Christopher Nolan</td>\n",
       "      <td>813.0</td>\n",
       "      <td>448130642.0</td>\n",
       "      <td>Action|Thriller</td>\n",
       "      <td>Tom Hardy</td>\n",
       "      <td>The Dark Knight Rises</td>\n",
       "      <td>1144337</td>\n",
       "      <td>2701.0</td>\n",
       "      <td>English</td>\n",
       "      <td>250000000.0</td>\n",
       "      <td>2012.0</td>\n",
       "      <td>8.5</td>\n",
       "      <td>164000</td>\n",
       "    </tr>\n",
       "    <tr>\n",
       "      <th>4</th>\n",
       "      <td>Andrew Stanton</td>\n",
       "      <td>462.0</td>\n",
       "      <td>73058679.0</td>\n",
       "      <td>Action|Adventure|Sci-Fi</td>\n",
       "      <td>Daryl Sabara</td>\n",
       "      <td>John Carter</td>\n",
       "      <td>212204</td>\n",
       "      <td>738.0</td>\n",
       "      <td>English</td>\n",
       "      <td>263700000.0</td>\n",
       "      <td>2012.0</td>\n",
       "      <td>6.6</td>\n",
       "      <td>24000</td>\n",
       "    </tr>\n",
       "  </tbody>\n",
       "</table>\n",
       "</div>"
      ],
      "text/plain": [
       "       director_name  num_critic_for_reviews        gross  \\\n",
       "0      James Cameron                   723.0  760505847.0   \n",
       "1     Gore Verbinski                   302.0  309404152.0   \n",
       "2         Sam Mendes                   602.0  200074175.0   \n",
       "3  Christopher Nolan                   813.0  448130642.0   \n",
       "4     Andrew Stanton                   462.0   73058679.0   \n",
       "\n",
       "                            genres     actor_1_name  \\\n",
       "0  Action|Adventure|Fantasy|Sci-Fi      CCH Pounder   \n",
       "1         Action|Adventure|Fantasy      Johnny Depp   \n",
       "2        Action|Adventure|Thriller  Christoph Waltz   \n",
       "3                  Action|Thriller        Tom Hardy   \n",
       "4          Action|Adventure|Sci-Fi     Daryl Sabara   \n",
       "\n",
       "                                 movie_title  num_voted_users  \\\n",
       "0                                    Avatar            886204   \n",
       "1  Pirates of the Caribbean: At World's End            471220   \n",
       "2                                   Spectre            275868   \n",
       "3                     The Dark Knight Rises           1144337   \n",
       "4                               John Carter            212204   \n",
       "\n",
       "   num_user_for_reviews language       budget  title_year  imdb_score  \\\n",
       "0                3054.0  English  237000000.0      2009.0         7.9   \n",
       "1                1238.0  English  300000000.0      2007.0         7.1   \n",
       "2                 994.0  English  245000000.0      2015.0         6.8   \n",
       "3                2701.0  English  250000000.0      2012.0         8.5   \n",
       "4                 738.0  English  263700000.0      2012.0         6.6   \n",
       "\n",
       "   movie_facebook_likes  \n",
       "0                 33000  \n",
       "1                     0  \n",
       "2                 85000  \n",
       "3                164000  \n",
       "4                 24000  "
      ]
     },
     "execution_count": 19,
     "metadata": {},
     "output_type": "execute_result"
    }
   ],
   "source": [
    "# Check the 'drop' function in the Pandas library - dataframe.drop(list_of_unnecessary_columns, axis = )\n",
    "# Write your code for dropping the columns here. It is advised to keep inspecting the dataframe after each set of operations\n",
    "\n",
    "movies.drop(['color', 'director_facebook_likes', 'actor_1_facebook_likes','actor_2_facebook_likes','actor_3_facebook_likes','actor_2_name','cast_total_facebook_likes','actor_3_name','duration','facenumber_in_poster','content_rating','country','movie_imdb_link','aspect_ratio','plot_keywords'], axis=1, inplace=True)\n",
    "movies.head()"
   ]
  },
  {
   "cell_type": "markdown",
   "metadata": {},
   "source": [
    "#### <font color='red'>Question 3: What is the count of columns in the new dataframe? </font>\n",
    "-  <font color='red'>10</font>\n",
    "-  <font color='red'>13</font>\n",
    "-  <font color='red'>15</font>\n",
    "-  <font color='red'>17</font>"
   ]
  },
  {
   "cell_type": "code",
   "execution_count": 22,
   "metadata": {},
   "outputs": [
    {
     "data": {
      "text/plain": [
       "13"
      ]
     },
     "execution_count": 22,
     "metadata": {},
     "output_type": "execute_result"
    }
   ],
   "source": [
    "len(movies.columns)"
   ]
  },
  {
   "cell_type": "markdown",
   "metadata": {},
   "source": [
    "**Subtask 2.2: Inspect Null values**\n",
    "\n",
    "As you have seen above, there are null values in multiple columns of the dataframe 'movies'. Find out the percentage of null values in each column of the dataframe 'movies'. "
   ]
  },
  {
   "cell_type": "code",
   "execution_count": 25,
   "metadata": {},
   "outputs": [
    {
     "name": "stdout",
     "output_type": "stream",
     "text": [
      "director_name             0.00\n",
      "num_critic_for_reviews    0.03\n",
      "gross                     0.00\n",
      "genres                    0.00\n",
      "actor_1_name              0.00\n",
      "movie_title               0.00\n",
      "num_voted_users           0.00\n",
      "num_user_for_reviews      0.00\n",
      "language                  0.10\n",
      "budget                    0.00\n",
      "title_year                0.00\n",
      "imdb_score                0.00\n",
      "movie_facebook_likes      0.00\n",
      "dtype: float64\n"
     ]
    }
   ],
   "source": [
    "# Write you code here\n",
    "null_percent = (movies.isnull().sum() / len(movies)) * 100\n",
    "null_percent = null_percent.round(2)  # Round to 2 decimal places\n",
    "print(null_percent)\n",
    "# …it gives column-wise null percentages, because:\n",
    "\n",
    "# movies.isnull() → creates a DataFrame of the same shape with True for nulls.\n",
    "\n",
    "# .sum() → sums down each column, so you get the total number of nulls per column.\n",
    "\n",
    "# / len(movies) → divides by the total number of rows, again per column."
   ]
  },
  {
   "cell_type": "code",
   "execution_count": 27,
   "metadata": {},
   "outputs": [
    {
     "data": {
      "text/plain": [
       "director_name             0.00\n",
       "num_critic_for_reviews    0.03\n",
       "gross                     0.00\n",
       "genres                    0.00\n",
       "actor_1_name              0.00\n",
       "movie_title               0.00\n",
       "num_voted_users           0.00\n",
       "num_user_for_reviews      0.00\n",
       "language                  0.10\n",
       "budget                    0.00\n",
       "title_year                0.00\n",
       "imdb_score                0.00\n",
       "movie_facebook_likes      0.00\n",
       "dtype: float64"
      ]
     },
     "execution_count": 27,
     "metadata": {},
     "output_type": "execute_result"
    }
   ],
   "source": [
    " round(100*(movies.isnull().sum()/len(movies.index)), 2)"
   ]
  },
  {
   "cell_type": "markdown",
   "metadata": {},
   "source": [
    "#### <font color='red'>Question 4: Which column has the highest percentage of null values? </font>\n",
    "-  <font color='red'>language</font>\n",
    "-  <font color='red'>genres</font>\n",
    "-  <font color='red'>num_critic_for_reviews</font>\n",
    "-  <font color='red'>imdb_score</font>"
   ]
  },
  {
   "cell_type": "markdown",
   "metadata": {},
   "source": [
    " If you want overall null percentage across the whole DataFrame:\n",
    "\n",
    "total_cells = movies.size  # total number of cells\n",
    "total_nulls = movies.isnull().sum().sum()  # total null values\n",
    "overall_null_percentage = (total_nulls / total_cells) * 100\n",
    "\n",
    "print(f\"Overall null percentage: {overall_null_percentage:.2f}%\")\n",
    "🔍 Difference:\n",
    "Column-level: Helpful to see which features are incomplete.\n",
    "\n",
    "Overall: Helpful to understand how sparse the dataset is as a whole."
   ]
  },
  {
   "cell_type": "markdown",
   "metadata": {},
   "source": [
    "**Subtask 2.3: Fill NaN values**\n",
    "\n",
    "You might notice that the `language` column has some NaN values. Here, on inspection, you will see that it is safe to replace all the missing values with `'English'`."
   ]
  },
  {
   "cell_type": "code",
   "execution_count": 32,
   "metadata": {},
   "outputs": [
    {
     "name": "stderr",
     "output_type": "stream",
     "text": [
      "C:\\Users\\Admin\\AppData\\Local\\Temp\\ipykernel_11152\\3317354760.py:2: FutureWarning: A value is trying to be set on a copy of a DataFrame or Series through chained assignment using an inplace method.\n",
      "The behavior will change in pandas 3.0. This inplace method will never work because the intermediate object on which we are setting values always behaves as a copy.\n",
      "\n",
      "For example, when doing 'df[col].method(value, inplace=True)', try using 'df.method({col: value}, inplace=True)' or df[col] = df[col].method(value) instead, to perform the operation inplace on the original object.\n",
      "\n",
      "\n",
      "  movies['language'].fillna('English', inplace=True)\n"
     ]
    }
   ],
   "source": [
    "# Write your code for filling the NaN values in the 'language' column here\n",
    "movies['language'].fillna('English', inplace=True)\n"
   ]
  },
  {
   "cell_type": "markdown",
   "metadata": {},
   "source": [
    "#### <font color='red'>Question 5: What is the count of movies made in English language after replacing the NaN values with English? </font>\n",
    "-  <font color='red'>3670</font>\n",
    "-  <font color='red'>3674</font>\n",
    "-  <font color='red'>3668</font>\n",
    "-  <font color='red'>3672</font>"
   ]
  },
  {
   "cell_type": "code",
   "execution_count": 35,
   "metadata": {},
   "outputs": [
    {
     "data": {
      "text/plain": [
       "3675"
      ]
     },
     "execution_count": 35,
     "metadata": {},
     "output_type": "execute_result"
    }
   ],
   "source": [
    "len(movies[movies['language']=='English'])"
   ]
  },
  {
   "cell_type": "markdown",
   "metadata": {},
   "source": [
    "### Task 3: Data Analysis\n",
    "\n",
    "**Subtask 3.1: Change the unit of columns**\n",
    "\n",
    "Convert the unit of the `budget` and `gross` columns from `$` to `million $`."
   ]
  },
  {
   "cell_type": "code",
   "execution_count": 38,
   "metadata": {},
   "outputs": [],
   "source": [
    "# Write your code for unit conversion here\n"
   ]
  },
  {
   "cell_type": "markdown",
   "metadata": {},
   "source": [
    "**Subtask 3.2: Find the movies with highest profit**\n",
    "\n",
    "   1. Create a new column called `profit` which contains the difference of the two columns: `gross` and `budget`.\n",
    "   2. Sort the dataframe using the `profit` column as reference. (Find which command can be used here to sort entries from the documentation)\n",
    "   3. Extract the top ten profiting movies in descending order and store them in a new dataframe - `top10`"
   ]
  },
  {
   "cell_type": "code",
   "execution_count": 41,
   "metadata": {},
   "outputs": [],
   "source": [
    "# Write your code for creating the profit column here\n",
    "movies[\"profit\"]=movies[\"gross\"]-movies[\"budget\"]"
   ]
  },
  {
   "cell_type": "code",
   "execution_count": 43,
   "metadata": {},
   "outputs": [],
   "source": [
    "# Write your code for sorting the dataframe here\n",
    "movies_sorted = movies.sort_values(by='profit', ascending=False)"
   ]
  },
  {
   "cell_type": "code",
   "execution_count": 45,
   "metadata": {},
   "outputs": [
    {
     "data": {
      "text/html": [
       "<div>\n",
       "<style scoped>\n",
       "    .dataframe tbody tr th:only-of-type {\n",
       "        vertical-align: middle;\n",
       "    }\n",
       "\n",
       "    .dataframe tbody tr th {\n",
       "        vertical-align: top;\n",
       "    }\n",
       "\n",
       "    .dataframe thead th {\n",
       "        text-align: right;\n",
       "    }\n",
       "</style>\n",
       "<table border=\"1\" class=\"dataframe\">\n",
       "  <thead>\n",
       "    <tr style=\"text-align: right;\">\n",
       "      <th></th>\n",
       "      <th>director_name</th>\n",
       "      <th>num_critic_for_reviews</th>\n",
       "      <th>gross</th>\n",
       "      <th>genres</th>\n",
       "      <th>actor_1_name</th>\n",
       "      <th>movie_title</th>\n",
       "      <th>num_voted_users</th>\n",
       "      <th>num_user_for_reviews</th>\n",
       "      <th>language</th>\n",
       "      <th>budget</th>\n",
       "      <th>title_year</th>\n",
       "      <th>imdb_score</th>\n",
       "      <th>movie_facebook_likes</th>\n",
       "      <th>profit</th>\n",
       "    </tr>\n",
       "  </thead>\n",
       "  <tbody>\n",
       "    <tr>\n",
       "      <th>0</th>\n",
       "      <td>James Cameron</td>\n",
       "      <td>723.0</td>\n",
       "      <td>760505847.0</td>\n",
       "      <td>Action|Adventure|Fantasy|Sci-Fi</td>\n",
       "      <td>CCH Pounder</td>\n",
       "      <td>Avatar</td>\n",
       "      <td>886204</td>\n",
       "      <td>3054.0</td>\n",
       "      <td>English</td>\n",
       "      <td>2.370000e+08</td>\n",
       "      <td>2009.0</td>\n",
       "      <td>7.9</td>\n",
       "      <td>33000</td>\n",
       "      <td>5.235058e+08</td>\n",
       "    </tr>\n",
       "    <tr>\n",
       "      <th>28</th>\n",
       "      <td>Colin Trevorrow</td>\n",
       "      <td>644.0</td>\n",
       "      <td>652177271.0</td>\n",
       "      <td>Action|Adventure|Sci-Fi|Thriller</td>\n",
       "      <td>Bryce Dallas Howard</td>\n",
       "      <td>Jurassic World</td>\n",
       "      <td>418214</td>\n",
       "      <td>1290.0</td>\n",
       "      <td>English</td>\n",
       "      <td>1.500000e+08</td>\n",
       "      <td>2015.0</td>\n",
       "      <td>7.0</td>\n",
       "      <td>150000</td>\n",
       "      <td>5.021773e+08</td>\n",
       "    </tr>\n",
       "    <tr>\n",
       "      <th>25</th>\n",
       "      <td>James Cameron</td>\n",
       "      <td>315.0</td>\n",
       "      <td>658672302.0</td>\n",
       "      <td>Drama|Romance</td>\n",
       "      <td>Leonardo DiCaprio</td>\n",
       "      <td>Titanic</td>\n",
       "      <td>793059</td>\n",
       "      <td>2528.0</td>\n",
       "      <td>English</td>\n",
       "      <td>2.000000e+08</td>\n",
       "      <td>1997.0</td>\n",
       "      <td>7.7</td>\n",
       "      <td>26000</td>\n",
       "      <td>4.586723e+08</td>\n",
       "    </tr>\n",
       "    <tr>\n",
       "      <th>2704</th>\n",
       "      <td>George Lucas</td>\n",
       "      <td>282.0</td>\n",
       "      <td>460935665.0</td>\n",
       "      <td>Action|Adventure|Fantasy|Sci-Fi</td>\n",
       "      <td>Harrison Ford</td>\n",
       "      <td>Star Wars: Episode IV - A New Hope</td>\n",
       "      <td>911097</td>\n",
       "      <td>1470.0</td>\n",
       "      <td>English</td>\n",
       "      <td>1.100000e+07</td>\n",
       "      <td>1977.0</td>\n",
       "      <td>8.7</td>\n",
       "      <td>33000</td>\n",
       "      <td>4.499357e+08</td>\n",
       "    </tr>\n",
       "    <tr>\n",
       "      <th>2748</th>\n",
       "      <td>Steven Spielberg</td>\n",
       "      <td>215.0</td>\n",
       "      <td>434949459.0</td>\n",
       "      <td>Family|Sci-Fi</td>\n",
       "      <td>Henry Thomas</td>\n",
       "      <td>E.T. the Extra-Terrestrial</td>\n",
       "      <td>281842</td>\n",
       "      <td>515.0</td>\n",
       "      <td>English</td>\n",
       "      <td>1.050000e+07</td>\n",
       "      <td>1982.0</td>\n",
       "      <td>7.9</td>\n",
       "      <td>34000</td>\n",
       "      <td>4.244495e+08</td>\n",
       "    </tr>\n",
       "    <tr>\n",
       "      <th>...</th>\n",
       "      <td>...</td>\n",
       "      <td>...</td>\n",
       "      <td>...</td>\n",
       "      <td>...</td>\n",
       "      <td>...</td>\n",
       "      <td>...</td>\n",
       "      <td>...</td>\n",
       "      <td>...</td>\n",
       "      <td>...</td>\n",
       "      <td>...</td>\n",
       "      <td>...</td>\n",
       "      <td>...</td>\n",
       "      <td>...</td>\n",
       "      <td>...</td>\n",
       "    </tr>\n",
       "    <tr>\n",
       "      <th>2147</th>\n",
       "      <td>Katsuhiro Ôtomo</td>\n",
       "      <td>105.0</td>\n",
       "      <td>410388.0</td>\n",
       "      <td>Action|Adventure|Animation|Family|Sci-Fi|Thriller</td>\n",
       "      <td>William Hootkins</td>\n",
       "      <td>Steamboy</td>\n",
       "      <td>13727</td>\n",
       "      <td>79.0</td>\n",
       "      <td>Japanese</td>\n",
       "      <td>2.127520e+09</td>\n",
       "      <td>2004.0</td>\n",
       "      <td>6.9</td>\n",
       "      <td>973</td>\n",
       "      <td>-2.127110e+09</td>\n",
       "    </tr>\n",
       "    <tr>\n",
       "      <th>2136</th>\n",
       "      <td>Hayao Miyazaki</td>\n",
       "      <td>174.0</td>\n",
       "      <td>2298191.0</td>\n",
       "      <td>Adventure|Animation|Fantasy</td>\n",
       "      <td>Minnie Driver</td>\n",
       "      <td>Princess Mononoke</td>\n",
       "      <td>221552</td>\n",
       "      <td>570.0</td>\n",
       "      <td>Japanese</td>\n",
       "      <td>2.400000e+09</td>\n",
       "      <td>1997.0</td>\n",
       "      <td>8.4</td>\n",
       "      <td>11000</td>\n",
       "      <td>-2.397702e+09</td>\n",
       "    </tr>\n",
       "    <tr>\n",
       "      <th>2693</th>\n",
       "      <td>Lajos Koltai</td>\n",
       "      <td>73.0</td>\n",
       "      <td>195888.0</td>\n",
       "      <td>Drama|Romance|War</td>\n",
       "      <td>Marcell Nagy</td>\n",
       "      <td>Fateless</td>\n",
       "      <td>5603</td>\n",
       "      <td>45.0</td>\n",
       "      <td>Hungarian</td>\n",
       "      <td>2.500000e+09</td>\n",
       "      <td>2005.0</td>\n",
       "      <td>7.1</td>\n",
       "      <td>607</td>\n",
       "      <td>-2.499804e+09</td>\n",
       "    </tr>\n",
       "    <tr>\n",
       "      <th>3282</th>\n",
       "      <td>Chan-wook Park</td>\n",
       "      <td>202.0</td>\n",
       "      <td>211667.0</td>\n",
       "      <td>Crime|Drama</td>\n",
       "      <td>Min-sik Choi</td>\n",
       "      <td>Lady Vengeance</td>\n",
       "      <td>53508</td>\n",
       "      <td>131.0</td>\n",
       "      <td>Korean</td>\n",
       "      <td>4.200000e+09</td>\n",
       "      <td>2005.0</td>\n",
       "      <td>7.7</td>\n",
       "      <td>4000</td>\n",
       "      <td>-4.199788e+09</td>\n",
       "    </tr>\n",
       "    <tr>\n",
       "      <th>2678</th>\n",
       "      <td>Joon-ho Bong</td>\n",
       "      <td>363.0</td>\n",
       "      <td>2201412.0</td>\n",
       "      <td>Comedy|Drama|Horror|Sci-Fi</td>\n",
       "      <td>Doona Bae</td>\n",
       "      <td>The Host</td>\n",
       "      <td>68883</td>\n",
       "      <td>279.0</td>\n",
       "      <td>Korean</td>\n",
       "      <td>1.221550e+10</td>\n",
       "      <td>2006.0</td>\n",
       "      <td>7.0</td>\n",
       "      <td>7000</td>\n",
       "      <td>-1.221330e+10</td>\n",
       "    </tr>\n",
       "  </tbody>\n",
       "</table>\n",
       "<p>3853 rows × 14 columns</p>\n",
       "</div>"
      ],
      "text/plain": [
       "         director_name  num_critic_for_reviews        gross  \\\n",
       "0        James Cameron                   723.0  760505847.0   \n",
       "28     Colin Trevorrow                   644.0  652177271.0   \n",
       "25       James Cameron                   315.0  658672302.0   \n",
       "2704      George Lucas                   282.0  460935665.0   \n",
       "2748  Steven Spielberg                   215.0  434949459.0   \n",
       "...                ...                     ...          ...   \n",
       "2147   Katsuhiro Ôtomo                   105.0     410388.0   \n",
       "2136    Hayao Miyazaki                   174.0    2298191.0   \n",
       "2693      Lajos Koltai                    73.0     195888.0   \n",
       "3282    Chan-wook Park                   202.0     211667.0   \n",
       "2678      Joon-ho Bong                   363.0    2201412.0   \n",
       "\n",
       "                                                 genres         actor_1_name  \\\n",
       "0                       Action|Adventure|Fantasy|Sci-Fi          CCH Pounder   \n",
       "28                     Action|Adventure|Sci-Fi|Thriller  Bryce Dallas Howard   \n",
       "25                                        Drama|Romance    Leonardo DiCaprio   \n",
       "2704                    Action|Adventure|Fantasy|Sci-Fi        Harrison Ford   \n",
       "2748                                      Family|Sci-Fi         Henry Thomas   \n",
       "...                                                 ...                  ...   \n",
       "2147  Action|Adventure|Animation|Family|Sci-Fi|Thriller     William Hootkins   \n",
       "2136                        Adventure|Animation|Fantasy        Minnie Driver   \n",
       "2693                                  Drama|Romance|War         Marcell Nagy   \n",
       "3282                                        Crime|Drama         Min-sik Choi   \n",
       "2678                         Comedy|Drama|Horror|Sci-Fi            Doona Bae   \n",
       "\n",
       "                              movie_title  num_voted_users  \\\n",
       "0                                 Avatar            886204   \n",
       "28                        Jurassic World            418214   \n",
       "25                               Titanic            793059   \n",
       "2704  Star Wars: Episode IV - A New Hope            911097   \n",
       "2748          E.T. the Extra-Terrestrial            281842   \n",
       "...                                   ...              ...   \n",
       "2147                            Steamboy             13727   \n",
       "2136                   Princess Mononoke            221552   \n",
       "2693                            Fateless              5603   \n",
       "3282                      Lady Vengeance             53508   \n",
       "2678                            The Host             68883   \n",
       "\n",
       "      num_user_for_reviews   language        budget  title_year  imdb_score  \\\n",
       "0                   3054.0    English  2.370000e+08      2009.0         7.9   \n",
       "28                  1290.0    English  1.500000e+08      2015.0         7.0   \n",
       "25                  2528.0    English  2.000000e+08      1997.0         7.7   \n",
       "2704                1470.0    English  1.100000e+07      1977.0         8.7   \n",
       "2748                 515.0    English  1.050000e+07      1982.0         7.9   \n",
       "...                    ...        ...           ...         ...         ...   \n",
       "2147                  79.0   Japanese  2.127520e+09      2004.0         6.9   \n",
       "2136                 570.0   Japanese  2.400000e+09      1997.0         8.4   \n",
       "2693                  45.0  Hungarian  2.500000e+09      2005.0         7.1   \n",
       "3282                 131.0     Korean  4.200000e+09      2005.0         7.7   \n",
       "2678                 279.0     Korean  1.221550e+10      2006.0         7.0   \n",
       "\n",
       "      movie_facebook_likes        profit  \n",
       "0                    33000  5.235058e+08  \n",
       "28                  150000  5.021773e+08  \n",
       "25                   26000  4.586723e+08  \n",
       "2704                 33000  4.499357e+08  \n",
       "2748                 34000  4.244495e+08  \n",
       "...                    ...           ...  \n",
       "2147                   973 -2.127110e+09  \n",
       "2136                 11000 -2.397702e+09  \n",
       "2693                   607 -2.499804e+09  \n",
       "3282                  4000 -4.199788e+09  \n",
       "2678                  7000 -1.221330e+10  \n",
       "\n",
       "[3853 rows x 14 columns]"
      ]
     },
     "execution_count": 45,
     "metadata": {},
     "output_type": "execute_result"
    }
   ],
   "source": [
    "top10 = movies_sorted\n",
    "top10"
   ]
  },
  {
   "cell_type": "markdown",
   "metadata": {},
   "source": [
    "**Checkpoint:** You might spot two movies directed by `James Cameron` in the list."
   ]
  },
  {
   "cell_type": "markdown",
   "metadata": {},
   "source": [
    "#### <font color='red'>Question 6: Which movie is ranked 5th from the top in the list obtained? </font>\n",
    "-  <font color='red'>E.T. the Extra-Terrestrial</font>\n",
    "-  <font color='red'>The Avengers</font>\n",
    "-  <font color='red'>The Dark Knight</font>\n",
    "-  <font color='red'>Titanic</font>"
   ]
  },
  {
   "cell_type": "markdown",
   "metadata": {},
   "source": [
    "**Subtask 3.3: Find IMDb Top 250**\n",
    "\n",
    "Create a new dataframe `IMDb_Top_250` and store the top 250 movies with the highest IMDb Rating (corresponding to the column: `imdb_score`). Also make sure that for all of these movies, the `num_voted_users` is greater than 25,000. \n",
    "\n",
    "Also add a `Rank` column containing the values 1 to 250 indicating the ranks of the corresponding films."
   ]
  },
  {
   "cell_type": "code",
   "execution_count": 50,
   "metadata": {},
   "outputs": [
    {
     "name": "stdout",
     "output_type": "stream",
     "text": [
      "             director_name  num_critic_for_reviews        gross  \\\n",
      "1795        Frank Darabont                   199.0   28341469.0   \n",
      "3016  Francis Ford Coppola                   208.0  134821952.0   \n",
      "64       Christopher Nolan                   645.0  533316061.0   \n",
      "2543  Francis Ford Coppola                   149.0   57300000.0   \n",
      "325          Peter Jackson                   328.0  377019252.0   \n",
      "\n",
      "                              genres    actor_1_name  \\\n",
      "1795                     Crime|Drama  Morgan Freeman   \n",
      "3016                     Crime|Drama       Al Pacino   \n",
      "64       Action|Crime|Drama|Thriller  Christian Bale   \n",
      "2543                     Crime|Drama  Robert De Niro   \n",
      "325   Action|Adventure|Drama|Fantasy   Orlando Bloom   \n",
      "\n",
      "                                         movie_title  num_voted_users  \\\n",
      "1795                       The Shawshank Redemption           1689764   \n",
      "3016                                  The Godfather           1155770   \n",
      "64                                  The Dark Knight           1676169   \n",
      "2543                         The Godfather: Part II            790926   \n",
      "325   The Lord of the Rings: The Return of the King           1215718   \n",
      "\n",
      "      num_user_for_reviews language       budget  title_year  imdb_score  \\\n",
      "1795                4144.0  English   25000000.0      1994.0         9.3   \n",
      "3016                2238.0  English    6000000.0      1972.0         9.2   \n",
      "64                  4667.0  English  185000000.0      2008.0         9.0   \n",
      "2543                 650.0  English   13000000.0      1974.0         9.0   \n",
      "325                 3189.0  English   94000000.0      2003.0         8.9   \n",
      "\n",
      "      movie_facebook_likes       profit  Rank  \n",
      "1795                108000    3341469.0     1  \n",
      "3016                 43000  128821952.0     2  \n",
      "64                   37000  348316061.0     3  \n",
      "2543                 14000   44300000.0     4  \n",
      "325                  16000  283019252.0     5  \n",
      "next line\n",
      "      Rank  imdb_score  num_voted_users\n",
      "1795     1         9.3          1689764\n",
      "3016     2         9.2          1155770\n",
      "64       3         9.0          1676169\n",
      "2543     4         9.0           790926\n",
      "325      5         8.9          1215718\n"
     ]
    }
   ],
   "source": [
    "# Write your code for extracting the top 250 movies as per the IMDb score here. Make sure that you store it in a new dataframe \n",
    "# and name that dataframe as 'IMDb_Top_250'\n",
    "# Filter movies with more than 25,000 votes\n",
    "filtered_movies = movies[movies['num_voted_users'] > 25000]\n",
    "\n",
    "# Sort by IMDb score in descending order and take the top 250\n",
    "IMDb_Top_250 = filtered_movies.sort_values(by='imdb_score', ascending=False).head(250).copy()\n",
    "\n",
    "# Add a Rank column\n",
    "IMDb_Top_250['Rank'] = range(1, 251)\n",
    "\n",
    "# View the top 5 rows\n",
    "print(IMDb_Top_250.head())\n",
    "print(\"next line\")\n",
    "print(IMDb_Top_250[['Rank', 'imdb_score', 'num_voted_users']].head())\n"
   ]
  },
  {
   "cell_type": "markdown",
   "metadata": {},
   "source": [
    "#### <font color='red'>Question 7: Suppose movies are divided into 5 buckets based on the IMDb ratings: </font>\n",
    "-  <font color='red'>7.5 to 8</font>\n",
    "-  <font color='red'>8 to 8.5</font>\n",
    "-  <font color='red'>8.5 to 9</font>\n",
    "-  <font color='red'>9 to 9.5</font>\n",
    "-  <font color='red'>9.5 to 10</font>\n",
    "\n",
    "<font color = 'red'> Which bucket holds the maximum number of movies from *IMDb_Top_250*? </font>"
   ]
  },
  {
   "cell_type": "code",
   "execution_count": 53,
   "metadata": {},
   "outputs": [
    {
     "name": "stdout",
     "output_type": "stream",
     "text": [
      "Bucket with the most movies: 8 - 8.5\n",
      "Number of movies in that bucket: 159\n"
     ]
    }
   ],
   "source": [
    "import pandas as pd\n",
    "\n",
    "# Define the function to assign buckets based on imdb_score\n",
    "def assign_bucket(score):\n",
    "    if 7.5 <= score < 8:\n",
    "        return '7.5 - 8'\n",
    "    elif 8 <= score < 8.5:\n",
    "        return '8 - 8.5'\n",
    "    elif 8.5 <= score < 9:\n",
    "        return '8.5 - 9'\n",
    "    elif 9 <= score < 9.5:\n",
    "        return '9 - 9.5'\n",
    "    elif 9.5 <= score <= 10:\n",
    "        return '9.5 - 10'\n",
    "    else:\n",
    "        return 'Others'\n",
    "\n",
    "# Apply the function to create a new column\n",
    "IMDb_Top_250['bucket'] = IMDb_Top_250['imdb_score'].apply(assign_bucket)\n",
    "\n",
    "# Count movies in each bucket\n",
    "bucket_counts = IMDb_Top_250['bucket'].value_counts()\n",
    "\n",
    "# Find the bucket with the most movies\n",
    "most_common_bucket = bucket_counts.idxmax()\n",
    "most_common_count = bucket_counts.max()\n",
    "\n",
    "# Display the result\n",
    "print(\"Bucket with the most movies:\", most_common_bucket)\n",
    "print(\"Number of movies in that bucket:\", most_common_count)\n"
   ]
  },
  {
   "cell_type": "markdown",
   "metadata": {},
   "source": [
    "**Subtask 3.4: Find the critic-favorite and audience-favorite actors**\n",
    "\n",
    "   1. Create three new dataframes namely, `Meryl_Streep`, `Leo_Caprio`, and `Brad_Pitt` which contain the movies in which the actors: 'Meryl Streep', 'Leonardo DiCaprio', and 'Brad Pitt' are the lead actors. Use only the `actor_1_name` column for extraction. Also, make sure that you use the names 'Meryl Streep', 'Leonardo DiCaprio', and 'Brad Pitt' for the said extraction.\n",
    "   2. Append the rows of all these dataframes and store them in a new dataframe named `Combined`.\n",
    "   3. Group the combined dataframe using the `actor_1_name` column.\n",
    "   4. Find the mean of the `num_critic_for_reviews` and `num_user_for_review` and identify the actors which have the highest mean."
   ]
  },
  {
   "cell_type": "code",
   "execution_count": 56,
   "metadata": {},
   "outputs": [
    {
     "data": {
      "text/plain": [
       "actor_1_name\n",
       "Brad Pitt            742.352941\n",
       "Leonardo DiCaprio    914.476190\n",
       "Meryl Streep         297.181818\n",
       "Name: num_user_for_reviews, dtype: float64"
      ]
     },
     "execution_count": 56,
     "metadata": {},
     "output_type": "execute_result"
    }
   ],
   "source": [
    "Meryl_Streep = movies.loc[movies.actor_1_name == 'Meryl Streep']\n",
    "Leo_Caprio = movies.loc[movies.actor_1_name == 'Leonardo DiCaprio']\n",
    "Brad_Pitt = movies.loc[movies.actor_1_name == 'Brad Pitt']\n",
    "Combined = pd.concat([Meryl_Streep, Brad_Pitt, Leo_Caprio])\n",
    "Combined_by_segment = Combined.groupby('actor_1_name')\n",
    "Combined_by_segment['imdb_score'].mean()\n",
    "Combined_by_segment['num_user_for_reviews'].mean()"
   ]
  },
  {
   "cell_type": "markdown",
   "metadata": {},
   "source": [
    "# Write your code for creating three new dataframes here\n",
    "Meryl_Streep = # Include all movies in which Meryl_Streep is the lead"
   ]
  },
  {
   "cell_type": "markdown",
   "metadata": {},
   "source": [
    "Leo_Caprio = # Include all movies in which Leo_Caprio is the lead"
   ]
  },
  {
   "cell_type": "code",
   "execution_count": null,
   "metadata": {},
   "outputs": [],
   "source": [
    "Brad_Pitt = # Include all movies in which Brad_Pitt is the lead"
   ]
  },
  {
   "cell_type": "markdown",
   "metadata": {},
   "source": [
    "# Write your code for combining the three dataframes here\n",
    "Combined "
   ]
  },
  {
   "cell_type": "code",
   "execution_count": null,
   "metadata": {},
   "outputs": [],
   "source": [
    "# Write your code for grouping the combined dataframe here\n"
   ]
  },
  {
   "cell_type": "code",
   "execution_count": 66,
   "metadata": {},
   "outputs": [
    {
     "data": {
      "text/plain": [
       "actor_1_name\n",
       "Brad Pitt            7.152941\n",
       "Leonardo DiCaprio    7.495238\n",
       "Meryl Streep         6.745455\n",
       "Name: imdb_score, dtype: float64"
      ]
     },
     "execution_count": 66,
     "metadata": {},
     "output_type": "execute_result"
    }
   ],
   "source": [
    "# Write the code for finding the mean of critic reviews and audience reviews here\n",
    "Combined_by_segment['imdb_score'].mean()"
   ]
  },
  {
   "cell_type": "markdown",
   "metadata": {},
   "source": [
    "#### <font color='red'>Question 8: Which actor is highest rated among the three actors according to the user reviews? </font>\n",
    "-  <font color='red'>Meryl Streep</font>\n",
    "-  <font color='red'>Leonardo DiCaprio</font>\n",
    "-  <font color='red'>Brad Pitt</font>"
   ]
  },
  {
   "cell_type": "markdown",
   "metadata": {},
   "source": [
    "#### <font color='red'>Question 9: Which actor is highest rated among the three actors according to the critics?</font>\n",
    "-  <font color='red'>Meryl Streep</font>\n",
    "-  <font color='red'>Leonardo DiCaprio</font>\n",
    "-  <font color='red'>Brad Pitt</font>"
   ]
  },
  {
   "cell_type": "markdown",
   "metadata": {},
   "source": [
    "There are two columns 'actor_1_facebook_likes' and 'actor_2_facebook_likes' which have quite a few missing values but since you have less data points, you don't want to drop many of them. For a hypothetical analysis that you're conducting, it will be okay if one of them has a missing value but you can't afford to have both missing values. So your aim here is to find the indices of the rows in which both of these columns have missing values simultaneously.\n",
    "\n",
    "Expected Output:\n",
    "\n",
    "- First print the indices of the rows where both these columns have missing values. The print statement has been provided in the stub. You just need to fill it. \n",
    "\n",
    "- After you have printed the above indices, drop these particular rows and print the number of retained rows in the dataframe.\n",
    "\n",
    "A sample output would look like the following:\n",
    "\n",
    "[389, 1019, 1178, 3400, 4012]\n",
    "\n",
    "4847\n",
    "Here, the list in the first line indicates a sample list which indicates the indices of the rows where both of the columns have missing values. And the second line represents the number of rows remaining in the dataframe after you have dropped the above rows."
   ]
  },
  {
   "cell_type": "code",
   "execution_count": 70,
   "metadata": {},
   "outputs": [
    {
     "name": "stdout",
     "output_type": "stream",
     "text": [
      "[]\n",
      "3853\n"
     ]
    }
   ],
   "source": [
    "# Importing the pandas package\n",
    "import pandas as pd \n",
    "\n",
    "# Reading the dataframe\n",
    "movies1 =  pd.read_csv(\"Movies.csv\", header = 0)\n",
    "\n",
    "# Find rows where both actor_1_facebook_likes and actor_2_facebook_likes are NaN\n",
    "missing_both = movies1[movies1['actor_1_facebook_likes'].isna() & movies1['actor_2_facebook_likes'].isna()]\n",
    "\n",
    "# Print their indices\n",
    "print(list(missing_both.index))\n",
    "\n",
    "# Drop those rows from the original DataFrame\n",
    "movies1 = movies1.drop(missing_both.index)\n",
    "\n",
    "# Print the number of rows left\n",
    "print(len(movies1))\n"
   ]
  },
  {
   "cell_type": "code",
   "execution_count": 72,
   "metadata": {},
   "outputs": [
    {
     "name": "stdout",
     "output_type": "stream",
     "text": [
      "Index(['Color', 'Director_Name', 'Num_Critic_For_Reviews', 'Duration',\n",
      "       'Director_Facebook_Likes', 'Actor_3_Facebook_Likes', 'Actor_2_Name',\n",
      "       'Actor_1_Facebook_Likes', 'Gross', 'Genres', 'Actor_1_Name',\n",
      "       'Movie_Title', 'Num_Voted_Users', 'Cast_Total_Facebook_Likes',\n",
      "       'Actor_3_Name', 'Facenumber_In_Poster', 'Plot_Keywords',\n",
      "       'Movie_Imdb_Link', 'Num_User_For_Reviews', 'Language', 'Country',\n",
      "       'Content_Rating', 'Budget', 'Title_Year', 'Actor_2_Facebook_Likes',\n",
      "       'Imdb_Score', 'Aspect_Ratio', 'Movie_Facebook_Likes'],\n",
      "      dtype='object')\n"
     ]
    }
   ],
   "source": [
    "# column names small case to title case\n",
    "# Importing the pandas package\n",
    "import pandas as pd\n",
    "\n",
    "# Reading the dataframe\n",
    "df =pd.read_csv(\"Movies.csv\", header = 0)\n",
    "\n",
    "# Convert all column names to uppercase\n",
    "df.columns = df.columns.str.title()\n",
    "\n",
    "# Display the updated DataFrame\n",
    "print(df.columns)\n",
    "\n",
    "\n",
    "# Printing the final columns. Do not edit this part.\n"
   ]
  },
  {
   "cell_type": "markdown",
   "metadata": {},
   "source": [
    "There are a lot of columns that aren't visible. But you might have noticed straight away that there are quite a few missing values in the data frame. Two columns for instance, 'aspect_ratio' and 'facenumber_in_poster' also have a few missing values(NaN). Now, replace the missing values with the 'median' value of the respective columns and print the null value count for both.\n",
    "\n",
    "Expected Output: First print the number of missing values in both of these columns, then output the median in both the columns and then impute the missing values with the respective medians and print the count of missing values again. Store all of these in a dictionary format like the following:\n",
    "\n",
    "{'aspect_ratio_mv': 431, 'facenumber_in_poster_mv': 97}\n",
    "\n",
    "{'aspect_ratio_median: 1.44, 'facenumber_in_poster': 2.0}\n",
    "\n",
    "{'aspect_ratio_final': 0, 'facenumber_in_poster_final': 0}\n",
    "\n",
    "The code for the same has been provided in the stub; you just need to complete these dictionaries.\n",
    "Note: You don't need to use any print statement. The print statements have already been written; you just need to complete the dictionaries provided in the stub."
   ]
  },
  {
   "cell_type": "code",
   "execution_count": null,
   "metadata": {},
   "outputs": [],
   "source": [
    "# Importing the pandas package\n",
    "import pandas as pd \n",
    "\n",
    "# Reading the movies dataframe\n",
    "movies = pd.read_csv('https://query.data.world/s/zlr77ctyxez3kv6zqn6nn5six42cfq')\n",
    "\n",
    "# Your aim is to complete the following three print statements after all the colons\n",
    "\n",
    "# Get the null value counts in both the columns\n",
    "aspect_ratio_mv = movies['aspect_ratio'].isnull().sum()\n",
    "facenumber_in_poster_mv = movies['facenumber_in_poster'].isnull().sum()\n",
    "\n",
    "# Complete the first dictionary\n",
    "mv = {'aspect_ratio_mv': aspect_ratio_mv, 'facenumber_in_poster_mv': facenumber_in_poster_mv}\n",
    "\n",
    "# Get the median of both the columns\n",
    "aspect_ratio_median = movies['aspect_ratio'].median()\n",
    "facenumber_in_poster_median = movies['facenumber_in_poster'].median()\n",
    "\n",
    "# Complete the second dictionary\n",
    "median = {'aspect_ratio_median': aspect_ratio_median, 'facenumber_in_poster_median': facenumber_in_poster_median}\n",
    "\n",
    "movies.loc[pd.isnull(movies['aspect_ratio']), ['aspect_ratio']] = movies['aspect_ratio'].median()\n",
    "movies.loc[pd.isnull(movies['facenumber_in_poster']), ['facenumber_in_poster']] = movies['facenumber_in_poster'].median()\n",
    "\n",
    "# Get the final null value count of both the columns\n",
    "aspect_ratio_final = movies['aspect_ratio'].isnull().sum()\n",
    "facenumber_in_poster_final = movies['facenumber_in_poster'].isnull().sum()\n",
    "\n",
    "# Complete the third dictionary\n",
    "final = {'aspect_ratio_final': aspect_ratio_final, 'facenumber_in_poster_final': facenumber_in_poster_final}\n",
    "\n",
    "# Printing the values in the three dictionaries. Please do not edit this part\n",
    "print(sorted(mv.values()))\n",
    "print(sorted(median.values()))\n",
    "print(sorted(final.values()))"
   ]
  }
 ],
 "metadata": {
  "kernelspec": {
   "display_name": "Python [conda env:base] *",
   "language": "python",
   "name": "conda-base-py"
  },
  "language_info": {
   "codemirror_mode": {
    "name": "ipython",
    "version": 3
   },
   "file_extension": ".py",
   "mimetype": "text/x-python",
   "name": "python",
   "nbconvert_exporter": "python",
   "pygments_lexer": "ipython3",
   "version": "3.12.7"
  }
 },
 "nbformat": 4,
 "nbformat_minor": 4
}
