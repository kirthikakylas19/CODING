{
 "cells": [
  {
   "cell_type": "code",
   "execution_count": 1,
   "id": "399ed8b5-9cee-4325-a6a9-58e740ad07b1",
   "metadata": {},
   "outputs": [],
   "source": [
    "import pandas as pd \n",
    "df=pd.read_csv(\"https://media-doselect.s3.amazonaws.com/generic/OzvzVqK4pgg4x7qEadoZMRyVR/insurance.csv\")"
   ]
  },
  {
   "cell_type": "code",
   "execution_count": 2,
   "id": "26e0623e-a152-4fa5-8cf2-e17edf7fa9e7",
   "metadata": {},
   "outputs": [
    {
     "data": {
      "text/html": [
       "<div>\n",
       "<style scoped>\n",
       "    .dataframe tbody tr th:only-of-type {\n",
       "        vertical-align: middle;\n",
       "    }\n",
       "\n",
       "    .dataframe tbody tr th {\n",
       "        vertical-align: top;\n",
       "    }\n",
       "\n",
       "    .dataframe thead th {\n",
       "        text-align: right;\n",
       "    }\n",
       "</style>\n",
       "<table border=\"1\" class=\"dataframe\">\n",
       "  <thead>\n",
       "    <tr style=\"text-align: right;\">\n",
       "      <th></th>\n",
       "      <th>age</th>\n",
       "      <th>sex</th>\n",
       "      <th>bmi</th>\n",
       "      <th>children</th>\n",
       "      <th>smoker</th>\n",
       "      <th>region</th>\n",
       "      <th>charges</th>\n",
       "    </tr>\n",
       "  </thead>\n",
       "  <tbody>\n",
       "    <tr>\n",
       "      <th>0</th>\n",
       "      <td>19</td>\n",
       "      <td>female</td>\n",
       "      <td>27.900</td>\n",
       "      <td>0</td>\n",
       "      <td>yes</td>\n",
       "      <td>southwest</td>\n",
       "      <td>16884.92400</td>\n",
       "    </tr>\n",
       "    <tr>\n",
       "      <th>1</th>\n",
       "      <td>18</td>\n",
       "      <td>male</td>\n",
       "      <td>33.770</td>\n",
       "      <td>1</td>\n",
       "      <td>no</td>\n",
       "      <td>southeast</td>\n",
       "      <td>1725.55230</td>\n",
       "    </tr>\n",
       "    <tr>\n",
       "      <th>2</th>\n",
       "      <td>28</td>\n",
       "      <td>male</td>\n",
       "      <td>33.000</td>\n",
       "      <td>3</td>\n",
       "      <td>no</td>\n",
       "      <td>southeast</td>\n",
       "      <td>4449.46200</td>\n",
       "    </tr>\n",
       "    <tr>\n",
       "      <th>3</th>\n",
       "      <td>33</td>\n",
       "      <td>male</td>\n",
       "      <td>22.705</td>\n",
       "      <td>0</td>\n",
       "      <td>no</td>\n",
       "      <td>northwest</td>\n",
       "      <td>21984.47061</td>\n",
       "    </tr>\n",
       "    <tr>\n",
       "      <th>4</th>\n",
       "      <td>32</td>\n",
       "      <td>male</td>\n",
       "      <td>28.880</td>\n",
       "      <td>0</td>\n",
       "      <td>no</td>\n",
       "      <td>northwest</td>\n",
       "      <td>3866.85520</td>\n",
       "    </tr>\n",
       "  </tbody>\n",
       "</table>\n",
       "</div>"
      ],
      "text/plain": [
       "   age     sex     bmi  children smoker     region      charges\n",
       "0   19  female  27.900         0    yes  southwest  16884.92400\n",
       "1   18    male  33.770         1     no  southeast   1725.55230\n",
       "2   28    male  33.000         3     no  southeast   4449.46200\n",
       "3   33    male  22.705         0     no  northwest  21984.47061\n",
       "4   32    male  28.880         0     no  northwest   3866.85520"
      ]
     },
     "execution_count": 2,
     "metadata": {},
     "output_type": "execute_result"
    }
   ],
   "source": [
    "df.head()"
   ]
  },
  {
   "cell_type": "code",
   "execution_count": 3,
   "id": "a7fb6e70-f371-4bfe-8f14-5d44e70fc95d",
   "metadata": {},
   "outputs": [
    {
     "name": "stdout",
     "output_type": "stream",
     "text": [
      "   age     sex     bmi  children smoker     region      charges   BMI_group\n",
      "0   19  female  27.900         0    yes  southwest  16884.92400  Overweight\n",
      "1   18    male  33.770         1     no  southeast   1725.55230       Obese\n",
      "2   28    male  33.000         3     no  southeast   4449.46200       Obese\n",
      "3   33    male  22.705         0     no  northwest  21984.47061      Normal\n",
      "4   32    male  28.880         0     no  northwest   3866.85520  Overweight\n"
     ]
    }
   ],
   "source": [
    "import pandas as pd\n",
    "\n",
    "# Load the dataset\n",
    "df = pd.read_csv(\"https://media-doselect.s3.amazonaws.com/generic/OzvzVqK4pgg4x7qEadoZMRyVR/insurance.csv\")\n",
    "\n",
    "# Define the BMI_group using lambda and apply\n",
    "df['BMI_group'] = df['bmi'].apply(\n",
    "    lambda x: 'Underweight' if x < 18.5 else\n",
    "              'Normal' if x <= 24.9 else\n",
    "              'Overweight' if x <= 29.9 else\n",
    "              'Obese'\n",
    ")\n",
    "\n",
    "# Display the first five rows\n",
    "print(df.head())\n"
   ]
  },
  {
   "cell_type": "code",
   "execution_count": 4,
   "id": "b0cacea3-5a1b-4d46-b62e-f0f8b50b26e8",
   "metadata": {},
   "outputs": [
    {
     "name": "stdout",
     "output_type": "stream",
     "text": [
      "   age     sex     bmi  children smoker     region      charges   BMI_group\n",
      "0   19  female  27.900         0    yes  southwest  16884.92400  Overweight\n",
      "1   18    male  33.770         1     no  southeast   1725.55230       Obese\n",
      "2   28    male  33.000         3     no  southeast   4449.46200       Obese\n",
      "3   33    male  22.705         0     no  northwest  21984.47061      Normal\n",
      "4   32    male  28.880         0     no  northwest   3866.85520  Overweight\n"
     ]
    }
   ],
   "source": [
    "import pandas as pd\n",
    "import numpy as np\n",
    "\n",
    "# Load the dataset\n",
    "df = pd.read_csv(\"https://media-doselect.s3.amazonaws.com/generic/OzvzVqK4pgg4x7qEadoZMRyVR/insurance.csv\")\n",
    "\n",
    "# Define conditions for BMI categories\n",
    "conditions = [\n",
    "    df['bmi'] < 18.5,\n",
    "    (df['bmi'] >= 18.5) & (df['bmi'] <= 24.9),\n",
    "    (df['bmi'] >= 25) & (df['bmi'] <= 29.9),\n",
    "    df['bmi'] >= 30\n",
    "]\n",
    "\n",
    "# Corresponding labels\n",
    "labels = ['Underweight', 'Normal', 'Overweight', 'Obese']\n",
    "\n",
    "# Apply conditions to create new column\n",
    "df['BMI_group'] = np.select(conditions, labels)\n",
    "\n",
    "# Show first five rows\n",
    "print(df.head())\n"
   ]
  },
  {
   "cell_type": "code",
   "execution_count": 5,
   "id": "9e0e3558-1335-4a5b-b68f-1c2c119018ab",
   "metadata": {},
   "outputs": [
    {
     "name": "stdout",
     "output_type": "stream",
     "text": [
      "   age     sex     bmi  children smoker     region      charges   BMI_group\n",
      "0   19  female  27.900         0    yes  southwest  16884.92400  Overweight\n",
      "1   18    male  33.770         1     no  southeast   1725.55230       Obese\n",
      "2   28    male  33.000         3     no  southeast   4449.46200       Obese\n",
      "3   33    male  22.705         0     no  northwest  21984.47061      Normal\n",
      "4   32    male  28.880         0     no  northwest   3866.85520  Overweight\n"
     ]
    }
   ],
   "source": [
    "import pandas as pd\n",
    "\n",
    "# Load the dataset\n",
    "df = pd.read_csv(\"https://media-doselect.s3.amazonaws.com/generic/OzvzVqK4pgg4x7qEadoZMRyVR/insurance.csv\")\n",
    "\n",
    "# Create BMI groups based on WHO standards\n",
    "bins = [0, 18.5, 24.9, 29.9, float('inf')]\n",
    "labels = ['Underweight', 'Normal', 'Overweight', 'Obese']\n",
    "df['BMI_group'] = pd.cut(df['bmi'], bins=bins, labels=labels, right=True)\n",
    "\n",
    "# Display the first five rows\n",
    "print(df.head())\n"
   ]
  },
  {
   "cell_type": "code",
   "execution_count": 6,
   "id": "d5d91712-9891-4ec3-9131-70e29f6b1249",
   "metadata": {},
   "outputs": [
    {
     "name": "stdout",
     "output_type": "stream",
     "text": [
      "0.0038\n",
      "-0.025\n",
      "0.7873\n"
     ]
    }
   ],
   "source": [
    "import pandas as pd\n",
    "\n",
    "# Load dataset\n",
    "df = pd.read_csv(\"https://media-doselect.s3.amazonaws.com/generic/OzvzVqK4pgg4x7qEadoZMRyVR/insurance.csv\")\n",
    "\n",
    "# Convert 'smoker' column to numeric\n",
    "df['smoker_num'] = df['smoker'].apply(lambda x: 1 if x == 'yes' else 0)\n",
    "\n",
    "# Calculate and print correlations rounded to 4 decimal places\n",
    "print(round(df['smoker_num'].corr(df['bmi']), 4))\n",
    "print(round(df['smoker_num'].corr(df['age']), 4))\n",
    "print(round(df['smoker_num'].corr(df['charges']), 4))\n"
   ]
  },
  {
   "cell_type": "code",
   "execution_count": 7,
   "id": "0367d394-efe2-48bd-8a0f-dcfe98c97252",
   "metadata": {},
   "outputs": [
    {
     "name": "stdout",
     "output_type": "stream",
     "text": [
      "0.0038\n",
      "-0.0250\n",
      "0.7873\n"
     ]
    }
   ],
   "source": [
    "import pandas as pd\n",
    "\n",
    "# Load dataset\n",
    "df = pd.read_csv(\"https://media-doselect.s3.amazonaws.com/generic/OzvzVqK4pgg4x7qEadoZMRyVR/insurance.csv\")\n",
    "\n",
    "# Convert 'smoker' column to numeric\n",
    "df['smoker_num'] = df['smoker'].apply(lambda x: 1 if x == 'yes' else 0)\n",
    "\n",
    "# Calculate and print correlations with exact 4 decimal places\n",
    "print(format(df['smoker_num'].corr(df['bmi']), '.4f'))\n",
    "print(format(df['smoker_num'].corr(df['age']), '.4f'))\n",
    "print(format(df['smoker_num'].corr(df['charges']), '.4f'))\n"
   ]
  },
  {
   "cell_type": "code",
   "execution_count": null,
   "id": "895b0c87-55ea-4e71-96f0-08de935be33d",
   "metadata": {},
   "outputs": [],
   "source": []
  }
 ],
 "metadata": {
  "kernelspec": {
   "display_name": "Python 3 (ipykernel)",
   "language": "python",
   "name": "python3"
  },
  "language_info": {
   "codemirror_mode": {
    "name": "ipython",
    "version": 3
   },
   "file_extension": ".py",
   "mimetype": "text/x-python",
   "name": "python",
   "nbconvert_exporter": "python",
   "pygments_lexer": "ipython3",
   "version": "3.12.7"
  }
 },
 "nbformat": 4,
 "nbformat_minor": 5
}
